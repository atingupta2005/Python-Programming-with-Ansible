{
 "cells": [
  {
   "cell_type": "markdown",
   "metadata": {
    "id": "JAVUmHk1He-M"
   },
   "source": [
    "## Python Basics"
   ]
  },
  {
   "cell_type": "markdown",
   "metadata": {
    "id": "1eLb_QCZHfAR"
   },
   "source": [
    "### Data Types\n",
    "\n",
    "| Data Type              | Examples                                  |\n",
    "| ---------------------- | ----------------------------------------- |\n",
    "| Integers               | `-2, -1, 0, 1, 2, 3, 4, 5`                |\n",
    "| Floating-point numbers | `-1.25, -1.0, --0.5, 0.0, 0.5, 1.0, 1.25` |\n",
    "| Strings                | `'a', 'aa', 'aaa', 'Hello!', '11 cats'`   |\n",
    "\n",
    "\n",
    "### String Concatenation and Replication\n",
    "\n",
    "String concatenation:"
   ]
  },
  {
   "cell_type": "code",
   "execution_count": 1,
   "metadata": {
    "colab": {
     "base_uri": "https://localhost:8080/",
     "height": 85
    },
    "id": "aEHGHrvTC7EC",
    "outputId": "aa1dca59-aacd-40ab-b8f2-7aa8baff4760"
   },
   "outputs": [
    {
     "name": "stdout",
     "output_type": "stream",
     "text": [
      "\n",
      "  blah blah\n",
      "  HI! This is python\n",
      "  \n"
     ]
    }
   ],
   "source": [
    "mynb = \"\"\"\n",
    "  blah blah\n",
    "  HI! This is python\n",
    "  \"\"\"\n",
    "print (mynb)"
   ]
  },
  {
   "cell_type": "code",
   "execution_count": 2,
   "metadata": {
    "colab": {
     "base_uri": "https://localhost:8080/",
     "height": 85
    },
    "id": "dtHgRtUO19lt",
    "outputId": "a48eb97f-107c-4e8d-bde7-e0177437ebd1"
   },
   "outputs": [
    {
     "name": "stdout",
     "output_type": "stream",
     "text": [
      "\n",
      " hi\n",
      " hello\n",
      "\n"
     ]
    }
   ],
   "source": [
    "spam =\"\"\"\n",
    " hi\n",
    " hello\n",
    "\"\"\"\n",
    "print(spam)"
   ]
  },
  {
   "cell_type": "code",
   "execution_count": 3,
   "metadata": {
    "colab": {
     "base_uri": "https://localhost:8080/",
     "height": 170
    },
    "id": "BqvCVL1BEd9H",
    "outputId": "c83e242a-cc8c-4e07-ecfb-dbb5713e7b8d"
   },
   "outputs": [
    {
     "name": "stdout",
     "output_type": "stream",
     "text": [
      "1\n",
      "2\n",
      "3\n",
      "4\n",
      "5\n",
      "6\n",
      "7\n",
      "8\n",
      "9\n"
     ]
    }
   ],
   "source": [
    "for i in range(1,10):\n",
    "  print(i)"
   ]
  },
  {
   "cell_type": "code",
   "execution_count": 4,
   "metadata": {
    "colab": {
     "base_uri": "https://localhost:8080/",
     "height": 68
    },
    "id": "-s3WBCGnrfnJ",
    "outputId": "1d012624-4227-4ada-c33e-f11de38efdf7"
   },
   "outputs": [
    {
     "name": "stdout",
     "output_type": "stream",
     "text": [
      "10\n",
      "7\n",
      "4\n"
     ]
    }
   ],
   "source": [
    "for i in range(10,1,-3):\n",
    "  print(i)"
   ]
  },
  {
   "cell_type": "markdown",
   "metadata": {
    "id": "J8C6L8e_HfA7"
   },
   "source": [
    "### Variables\n",
    "\n",
    "You can name a variable anything as long as it obeys the following three rules:\n",
    "\n",
    "1. It can be only one word.\n",
    "2. It can use only letters, numbers, and the underscore (`_`) character.\n",
    "3. It can’t begin with a number.\n",
    "\n",
    "\n",
    "Example:"
   ]
  },
  {
   "cell_type": "code",
   "execution_count": 6,
   "metadata": {
    "colab": {
     "base_uri": "https://localhost:8080/",
     "height": 34
    },
    "id": "wn8TXy3LHfA_",
    "outputId": "04f6d885-3f5e-4773-e514-3faad17a40a4"
   },
   "outputs": [
    {
     "data": {
      "text/plain": [
       "float"
      ]
     },
     "execution_count": 6,
     "metadata": {},
     "output_type": "execute_result"
    }
   ],
   "source": [
    " spam = 5.2\n",
    " type(spam)"
   ]
  },
  {
   "cell_type": "markdown",
   "metadata": {
    "id": "Vp00XNOwHfBH"
   },
   "source": [
    "### Comments\n",
    "\n",
    "Inline comment:"
   ]
  },
  {
   "cell_type": "code",
   "execution_count": 7,
   "metadata": {
    "id": "hri3fkGEHfBP"
   },
   "outputs": [],
   "source": [
    "# This is a comment"
   ]
  },
  {
   "cell_type": "markdown",
   "metadata": {
    "id": "5x09mBzgHfBc"
   },
   "source": [
    "Multiline comment:"
   ]
  },
  {
   "cell_type": "code",
   "execution_count": 8,
   "metadata": {
    "attributes": {
     "classes": [
      "Python"
     ],
     "id": ""
    },
    "id": "Y89HXc8QHfBf"
   },
   "outputs": [],
   "source": [
    "# This is a\n",
    "# multiline comment"
   ]
  },
  {
   "cell_type": "markdown",
   "metadata": {
    "id": "Hs9KfIC-HfBp"
   },
   "source": [
    "Code with a comment:"
   ]
  },
  {
   "cell_type": "code",
   "execution_count": 9,
   "metadata": {
    "id": "RbFxrtPnHfBs"
   },
   "outputs": [],
   "source": [
    "a = 1  # initialization"
   ]
  },
  {
   "cell_type": "markdown",
   "metadata": {
    "id": "JHfo6kXfHfCv"
   },
   "source": [
    "### The print() Function"
   ]
  },
  {
   "cell_type": "code",
   "execution_count": null,
   "metadata": {
    "colab": {
     "base_uri": "https://localhost:8080/",
     "height": 34
    },
    "id": "6ib9R1KWHfCz",
    "outputId": "b37c10af-d49f-468b-c00e-bb92598e6d77"
   },
   "outputs": [
    {
     "name": "stdout",
     "output_type": "stream",
     "text": [
      "Hello world!\n"
     ]
    }
   ],
   "source": [
    "print('Hello world!')"
   ]
  },
  {
   "cell_type": "markdown",
   "metadata": {
    "id": "uHCX7x9BHfDO"
   },
   "source": [
    "[*Return to the Top*](#python-cheatsheet)\n",
    "\n",
    "### The input() Function\n",
    "\n",
    "Example Code:"
   ]
  },
  {
   "cell_type": "code",
   "execution_count": null,
   "metadata": {
    "colab": {
     "base_uri": "https://localhost:8080/",
     "height": 102
    },
    "id": "-Z9vFGdVHfDQ",
    "outputId": "cf839306-94c5-4710-a048-7e67d85f70e0"
   },
   "outputs": [
    {
     "name": "stdout",
     "output_type": "stream",
     "text": [
      "What is your name?\n",
      "pari\n",
      "Your age please: 20\n",
      "<class 'int'>\n",
      "It is good to meet you, pari. You are 21 years old\n"
     ]
    }
   ],
   "source": [
    "print('What is your name?')   # ask for their name\n",
    "myName = input()\n",
    "age = int(input(\"Your age please: \"))\n",
    "print(type(age))\n",
    "print(f'It is good to meet you, {myName}. You are {age+1} years old')"
   ]
  },
  {
   "cell_type": "markdown",
   "metadata": {
    "id": "qFnbUXL1HfD1"
   },
   "source": [
    "[*Return to the Top*](#python-cheatsheet)\n",
    "\n",
    "### The str(), int(), and float() Functions\n",
    "\n",
    "Integer to String or Float:"
   ]
  },
  {
   "cell_type": "code",
   "execution_count": null,
   "metadata": {
    "colab": {
     "base_uri": "https://localhost:8080/",
     "height": 34
    },
    "id": "Gcr-Zt0-HfD3",
    "outputId": "cc19560f-58ac-4b24-f278-361f57d496e2"
   },
   "outputs": [
    {
     "data": {
      "text/plain": [
       "'29'"
      ]
     },
     "execution_count": 13,
     "metadata": {
      "tags": []
     },
     "output_type": "execute_result"
    }
   ],
   "source": [
    " str(29)"
   ]
  },
  {
   "cell_type": "code",
   "execution_count": null,
   "metadata": {
    "colab": {
     "base_uri": "https://localhost:8080/",
     "height": 34
    },
    "id": "9UwoGZWPHfD7",
    "outputId": "16f29c7d-4f23-483c-e327-6fa3fb00ac3f"
   },
   "outputs": [
    {
     "name": "stdout",
     "output_type": "stream",
     "text": [
      "I am 29 years old. Atin\n"
     ]
    }
   ],
   "source": [
    " Age = 29\n",
    " Name = \"Atin\"\n",
    " print(f'I am {Age} years old. {Name}')"
   ]
  },
  {
   "cell_type": "code",
   "execution_count": null,
   "metadata": {
    "colab": {
     "base_uri": "https://localhost:8080/",
     "height": 34
    },
    "id": "EeJtf3aKLcOE",
    "outputId": "877b9d5f-de93-4be7-b112-208660654dd0"
   },
   "outputs": [
    {
     "name": "stdout",
     "output_type": "stream",
     "text": [
      "I am 29 years old.Atin\n"
     ]
    }
   ],
   "source": [
    "print('I am ' + str(Age) +  ' years old.' + Name)"
   ]
  },
  {
   "cell_type": "code",
   "execution_count": null,
   "metadata": {
    "id": "jtio0RRRHfEB"
   },
   "outputs": [],
   "source": [
    " str(-3.14)"
   ]
  },
  {
   "cell_type": "markdown",
   "metadata": {
    "id": "FpL-MP9XHfEG"
   },
   "source": [
    "Float to Integer:"
   ]
  },
  {
   "cell_type": "code",
   "execution_count": null,
   "metadata": {
    "colab": {
     "base_uri": "https://localhost:8080/",
     "height": 34
    },
    "id": "734ZgESlHfEQ",
    "outputId": "d53bfc2a-2b14-4277-93fc-3a31622ab135"
   },
   "outputs": [
    {
     "data": {
      "text/plain": [
       "7"
      ]
     },
     "execution_count": 1,
     "metadata": {
      "tags": []
     },
     "output_type": "execute_result"
    }
   ],
   "source": [
    " int(7.7)"
   ]
  },
  {
   "cell_type": "code",
   "execution_count": null,
   "metadata": {
    "id": "4ji7Vci3HfEm"
   },
   "outputs": [],
   "source": [
    " int(7.7) + 1"
   ]
  },
  {
   "cell_type": "markdown",
   "metadata": {
    "id": "Glm6ML1cHfEv"
   },
   "source": [
    "[*Return to the Top*](#python-cheatsheet)\n",
    "\n",
    "## Flow Control\n",
    "\n",
    "### Comparison Operators\n",
    "\n",
    "| Operator | Meaning                  |\n",
    "| -------- | ------------------------ |\n",
    "| `==`     | Equal to                 |\n",
    "| `!=`     | Not equal to             |\n",
    "| `<`      | Less than                |\n",
    "| `>`      | Greater Than             |\n",
    "| `<=`     | Less than or Equal to    |\n",
    "| `>=`     | Greater than or Equal to |\n",
    "\n",
    "These operators evaluate to True or False depending on the values you give them."
   ]
  },
  {
   "cell_type": "markdown",
   "metadata": {
    "id": "YgwCClWpHfGp"
   },
   "source": [
    "### if Statements"
   ]
  },
  {
   "cell_type": "code",
   "execution_count": null,
   "metadata": {
    "colab": {
     "base_uri": "https://localhost:8080/",
     "height": 68
    },
    "id": "LnkiQzI8HfGq",
    "outputId": "251003be-fa92-4f9b-9c25-973c39f85cb1"
   },
   "outputs": [
    {
     "name": "stdout",
     "output_type": "stream",
     "text": [
      "Hi,damini.\n",
      "How are you\n",
      "How are you\n"
     ]
    }
   ],
   "source": [
    "name = \"damini\"\n",
    "\n",
    "if name == 'damini':\n",
    "  print('Hi,damini.')\n",
    "  print('How are you')\n",
    "\n",
    "  print('How are you')\n"
   ]
  },
  {
   "cell_type": "markdown",
   "metadata": {
    "id": "KYrrDpdbHfGv"
   },
   "source": [
    "[*Return to the Top*](#python-cheatsheet)\n",
    "\n",
    "### else Statements"
   ]
  },
  {
   "cell_type": "code",
   "execution_count": null,
   "metadata": {
    "colab": {
     "base_uri": "https://localhost:8080/",
     "height": 34
    },
    "id": "9HIGGDNZHfGx",
    "outputId": "544f6d8e-10f4-466a-f4d6-ac855cb79489"
   },
   "outputs": [
    {
     "name": "stdout",
     "output_type": "stream",
     "text": [
      "Hello, stranger.\n"
     ]
    }
   ],
   "source": [
    "name = 'Bob'\n",
    "if name == 'Alice':\n",
    "    print('Hi, Alice.')\n",
    "else:\n",
    "    print('Hello, stranger.')"
   ]
  },
  {
   "cell_type": "markdown",
   "metadata": {
    "id": "gRReD5TIHfG1"
   },
   "source": [
    "[*Return to the Top*](#python-cheatsheet)\n",
    "\n",
    "### elif Statements"
   ]
  },
  {
   "cell_type": "code",
   "execution_count": null,
   "metadata": {
    "id": "LfiPOwj3HfG3"
   },
   "outputs": [],
   "source": [
    "name = 'Bob'\n",
    "age = 5\n",
    "if name == 'Alice':\n",
    "    print('Hi, Alice.')\n",
    "elif age < 12:\n",
    "    print('You are not Alice, kiddo.')"
   ]
  },
  {
   "cell_type": "code",
   "execution_count": null,
   "metadata": {
    "id": "dH7-i4GtHfG7"
   },
   "outputs": [],
   "source": [
    "name = 'Bob'\n",
    "age = 30\n",
    "if name == 'Alice':\n",
    "    print('Hi, Alice.')\n",
    "elif age < 12:\n",
    "    print('You are not Alice, kiddo.')\n",
    "else:\n",
    "    print('You are neither Alice nor a little kid.')"
   ]
  },
  {
   "cell_type": "markdown",
   "metadata": {
    "id": "ySrcP14iHfHG"
   },
   "source": [
    "[*Return to the Top*](#python-cheatsheet)\n",
    "\n",
    "### while Loop Statements"
   ]
  },
  {
   "cell_type": "code",
   "execution_count": null,
   "metadata": {
    "colab": {
     "base_uri": "https://localhost:8080/",
     "height": 102
    },
    "id": "d54cLR90HfHH",
    "outputId": "f9b5a666-58d0-4b1c-8956-7d9afd57d786"
   },
   "outputs": [
    {
     "name": "stdout",
     "output_type": "stream",
     "text": [
      "Hello, world.\n",
      "Hello, world.\n",
      "Hello, world.\n",
      "Hello, world.\n",
      "Hello, world.\n"
     ]
    }
   ],
   "source": [
    "spam = 0\n",
    "while spam < 5:\n",
    "    print('Hello, world.')\n",
    "    spam = spam + 1"
   ]
  },
  {
   "cell_type": "markdown",
   "metadata": {
    "id": "mL_cYd7dHfHN"
   },
   "source": [
    "[*Return to the Top*](#python-cheatsheet)\n",
    "\n",
    "### break Statements\n",
    "\n",
    " If the execution reaches a break statement, it immediately exits the while loop’s clause:"
   ]
  },
  {
   "cell_type": "code",
   "execution_count": null,
   "metadata": {
    "colab": {
     "base_uri": "https://localhost:8080/",
     "height": 170
    },
    "id": "1igktt3NHfHO",
    "outputId": "9770ee4e-2db4-4ad4-8cdf-25ed6430711b"
   },
   "outputs": [
    {
     "name": "stdout",
     "output_type": "stream",
     "text": [
      "Please type your name.\n",
      "hhjj\n",
      "Please type your name.\n",
      "true\n",
      "Please type your name.\n",
      "True\n",
      "Please type your name.\n",
      "your name\n",
      "Thank you!\n"
     ]
    }
   ],
   "source": [
    "while True:\n",
    "    print('Please type your name.')\n",
    "    name = input()\n",
    "    if name == 'your name':\n",
    "        break\n",
    "print('Thank you!')"
   ]
  },
  {
   "cell_type": "markdown",
   "metadata": {
    "id": "l7phccqIHfIy"
   },
   "source": [
    "## Lists"
   ]
  },
  {
   "cell_type": "code",
   "execution_count": null,
   "metadata": {
    "colab": {
     "base_uri": "https://localhost:8080/",
     "height": 34
    },
    "id": "d5OW7heEHfJL",
    "outputId": "59e7cd2a-37b4-4ff0-c4ca-035c02ee4fe9"
   },
   "outputs": [
    {
     "data": {
      "text/plain": [
       "50"
      ]
     },
     "execution_count": 7,
     "metadata": {
      "tags": []
     },
     "output_type": "execute_result"
    }
   ],
   "source": [
    " spam = ['cat', 'bat', 'rat', 'elephant', 50, 54.5]\n",
    "\n",
    " spam[-2]"
   ]
  },
  {
   "cell_type": "markdown",
   "metadata": {
    "id": "hNVpfyW0HfJT"
   },
   "source": [
    "### Getting Individual Values in a List with Indexes"
   ]
  },
  {
   "cell_type": "code",
   "execution_count": null,
   "metadata": {
    "colab": {
     "base_uri": "https://localhost:8080/",
     "height": 34
    },
    "id": "ETBMixUAHfJV",
    "outputId": "b1d7193a-3279-4aae-94f9-628a06696e97"
   },
   "outputs": [
    {
     "data": {
      "text/plain": [
       "['cat', 'bat', 'rat', 'elephant']"
      ]
     },
     "execution_count": 9,
     "metadata": {
      "tags": []
     },
     "output_type": "execute_result"
    }
   ],
   "source": [
    " spam = ['cat', 'bat', 'rat', 'elephant']\n",
    " spam[0:4]"
   ]
  },
  {
   "cell_type": "code",
   "execution_count": null,
   "metadata": {
    "colab": {
     "base_uri": "https://localhost:8080/",
     "height": 34
    },
    "id": "FdTYxPg0HfJr",
    "outputId": "16ecf9eb-040b-4a60-8568-5a8f41f2bb2f"
   },
   "outputs": [
    {
     "data": {
      "text/plain": [
       "['cat', 'bat', 'rat', 'elephant']"
      ]
     },
     "execution_count": 12,
     "metadata": {
      "tags": []
     },
     "output_type": "execute_result"
    }
   ],
   "source": [
    " spam[::]"
   ]
  },
  {
   "cell_type": "code",
   "execution_count": null,
   "metadata": {
    "colab": {
     "base_uri": "https://localhost:8080/",
     "height": 34
    },
    "id": "YynmiqrUHfJ4",
    "outputId": "43aa9bd2-9f67-4889-eaa1-626c7fd08a2a"
   },
   "outputs": [
    {
     "data": {
      "text/plain": [
       "'rat'"
      ]
     },
     "execution_count": 28,
     "metadata": {
      "tags": []
     },
     "output_type": "execute_result"
    }
   ],
   "source": [
    " spam[2]"
   ]
  },
  {
   "cell_type": "code",
   "execution_count": null,
   "metadata": {
    "colab": {
     "base_uri": "https://localhost:8080/",
     "height": 34
    },
    "id": "AM_zlE9IHfJ9",
    "outputId": "422bb021-d833-415c-9aae-6f3c21c98dec"
   },
   "outputs": [
    {
     "data": {
      "text/plain": [
       "'elephant'"
      ]
     },
     "execution_count": 29,
     "metadata": {
      "tags": []
     },
     "output_type": "execute_result"
    }
   ],
   "source": [
    " spam[3]"
   ]
  },
  {
   "cell_type": "markdown",
   "metadata": {
    "id": "mr7wnIbmHfKA"
   },
   "source": [
    "### Negative Indexes"
   ]
  },
  {
   "cell_type": "code",
   "execution_count": null,
   "metadata": {
    "colab": {
     "base_uri": "https://localhost:8080/",
     "height": 34
    },
    "id": "_zSk1nLVHfKB",
    "outputId": "b1acf5f4-ba95-429b-f0ef-aa5ce3891c21"
   },
   "outputs": [
    {
     "data": {
      "text/plain": [
       "'rat'"
      ]
     },
     "execution_count": 31,
     "metadata": {
      "tags": []
     },
     "output_type": "execute_result"
    }
   ],
   "source": [
    " spam = ['cat', 'bat', 'rat', 'elephant']\n",
    "\n",
    " spam[-2]"
   ]
  },
  {
   "cell_type": "code",
   "execution_count": null,
   "metadata": {
    "colab": {
     "base_uri": "https://localhost:8080/",
     "height": 34
    },
    "id": "mQEOdFilHfKG",
    "outputId": "a8848b56-f593-48a2-e68d-b1a5e9aed2df"
   },
   "outputs": [
    {
     "data": {
      "text/plain": [
       "'bat'"
      ]
     },
     "execution_count": 56,
     "metadata": {
      "tags": []
     },
     "output_type": "execute_result"
    }
   ],
   "source": [
    " spam[-3]"
   ]
  },
  {
   "cell_type": "code",
   "execution_count": null,
   "metadata": {
    "colab": {
     "base_uri": "https://localhost:8080/",
     "height": 34
    },
    "id": "72OqJDJcHfKK",
    "outputId": "f32e3975-935b-439a-be78-bd859bd060aa"
   },
   "outputs": [
    {
     "data": {
      "text/plain": [
       "'The elephant is afraid of the bat.'"
      ]
     },
     "execution_count": 57,
     "metadata": {
      "tags": []
     },
     "output_type": "execute_result"
    }
   ],
   "source": [
    " 'The {} is afraid of the {}.'.format(spam[-1], spam[-3])"
   ]
  },
  {
   "cell_type": "markdown",
   "metadata": {
    "id": "K-u7Gn5dHfKO"
   },
   "source": [
    "### Getting Sublists with Slices"
   ]
  },
  {
   "cell_type": "code",
   "execution_count": null,
   "metadata": {
    "colab": {
     "base_uri": "https://localhost:8080/",
     "height": 34
    },
    "id": "JgY-iW_ZHfKO",
    "outputId": "c4c59b74-25c9-4192-f30a-e57b0524c49d"
   },
   "outputs": [
    {
     "data": {
      "text/plain": [
       "['cat', 'bat', 'rat']"
      ]
     },
     "execution_count": 35,
     "metadata": {
      "tags": []
     },
     "output_type": "execute_result"
    }
   ],
   "source": [
    " spam = ['cat', 'bat', 'rat', 'elephant']\n",
    " spam[:3]"
   ]
  },
  {
   "cell_type": "code",
   "execution_count": null,
   "metadata": {
    "colab": {
     "base_uri": "https://localhost:8080/",
     "height": 34
    },
    "id": "qTABxbQNHfKS",
    "outputId": "ea28ba17-2576-4886-b140-14fa03629223"
   },
   "outputs": [
    {
     "data": {
      "text/plain": [
       "['bat', 'rat']"
      ]
     },
     "execution_count": 36,
     "metadata": {
      "tags": []
     },
     "output_type": "execute_result"
    }
   ],
   "source": [
    " spam[1:3]"
   ]
  },
  {
   "cell_type": "code",
   "execution_count": null,
   "metadata": {
    "colab": {
     "base_uri": "https://localhost:8080/",
     "height": 34
    },
    "id": "MyLZlvWuHfKV",
    "outputId": "1a789004-1021-4b19-aaca-d980349072a9"
   },
   "outputs": [
    {
     "data": {
      "text/plain": [
       "['elephant', 'rat', 'bat']"
      ]
     },
     "execution_count": 37,
     "metadata": {
      "tags": []
     },
     "output_type": "execute_result"
    }
   ],
   "source": [
    " spam[-1:0:-1]"
   ]
  },
  {
   "cell_type": "code",
   "execution_count": null,
   "metadata": {
    "id": "htCUW3tfHfKY"
   },
   "outputs": [],
   "source": [
    " spam = ['cat', 'bat', 'rat', 'elephant']\n",
    " spam[:2]"
   ]
  },
  {
   "cell_type": "code",
   "execution_count": null,
   "metadata": {
    "colab": {
     "base_uri": "https://localhost:8080/",
     "height": 34
    },
    "id": "ls2HXMsPHfKb",
    "outputId": "7e1e71ee-5d90-4cf3-ea70-a3f9fe017684"
   },
   "outputs": [
    {
     "data": {
      "text/plain": [
       "['bat', 'rat', 'elephant']"
      ]
     },
     "execution_count": 65,
     "metadata": {
      "tags": []
     },
     "output_type": "execute_result"
    }
   ],
   "source": [
    " spam[1:]"
   ]
  },
  {
   "cell_type": "markdown",
   "metadata": {
    "id": "cfW9TxIJHfKl"
   },
   "source": [
    "### Getting a List’s Length with len()"
   ]
  },
  {
   "cell_type": "code",
   "execution_count": null,
   "metadata": {
    "colab": {
     "base_uri": "https://localhost:8080/",
     "height": 34
    },
    "id": "jAAzUkbrHfKn",
    "outputId": "2dd7d6da-fe55-4c46-b011-73bd649b6679"
   },
   "outputs": [
    {
     "data": {
      "text/plain": [
       "3"
      ]
     },
     "execution_count": 68,
     "metadata": {
      "tags": []
     },
     "output_type": "execute_result"
    }
   ],
   "source": [
    " spam = ['cat', 'dog', 'moose']\n",
    " len(spam)"
   ]
  },
  {
   "cell_type": "markdown",
   "metadata": {
    "id": "s8djslbXHfLA"
   },
   "source": [
    "### The in and not in Operators"
   ]
  },
  {
   "cell_type": "code",
   "execution_count": null,
   "metadata": {
    "colab": {
     "base_uri": "https://localhost:8080/",
     "height": 34
    },
    "id": "fs_nVYI_HfLD",
    "outputId": "68f0b2b7-32bc-4694-ba88-ad97ccbb1afe"
   },
   "outputs": [
    {
     "name": "stdout",
     "output_type": "stream",
     "text": [
      "has\n"
     ]
    }
   ],
   "source": [
    " if('howdy1' in ['hello', 'hi', 'howdy', 'heyas','howdy1']):\n",
    "  print (\"has\")"
   ]
  },
  {
   "cell_type": "code",
   "execution_count": null,
   "metadata": {
    "colab": {
     "base_uri": "https://localhost:8080/",
     "height": 34
    },
    "id": "rJkCwHTJHfLI",
    "outputId": "8318b07d-7a16-44b2-ed4e-1b5175e5c6ba"
   },
   "outputs": [
    {
     "data": {
      "text/plain": [
       "False"
      ]
     },
     "execution_count": 29,
     "metadata": {
      "tags": []
     },
     "output_type": "execute_result"
    }
   ],
   "source": [
    " spam = ['hello', 'hi', 'howdy', 'heyas']\n",
    " 'radhika' in spam"
   ]
  },
  {
   "cell_type": "code",
   "execution_count": null,
   "metadata": {
    "colab": {
     "base_uri": "https://localhost:8080/",
     "height": 34
    },
    "id": "rDAORTWRHfLL",
    "outputId": "71f62233-1a03-4f22-f188-298bda8b0701"
   },
   "outputs": [
    {
     "data": {
      "text/plain": [
       "False"
      ]
     },
     "execution_count": 28,
     "metadata": {
      "tags": []
     },
     "output_type": "execute_result"
    }
   ],
   "source": [
    " 'howdy' not in spam"
   ]
  },
  {
   "cell_type": "code",
   "execution_count": null,
   "metadata": {
    "colab": {
     "base_uri": "https://localhost:8080/",
     "height": 34
    },
    "id": "rxAwVFfrHfLQ",
    "outputId": "f169fb24-e9f8-4777-daa1-ceb7263e7731"
   },
   "outputs": [
    {
     "data": {
      "text/plain": [
       "True"
      ]
     },
     "execution_count": 30,
     "metadata": {
      "tags": []
     },
     "output_type": "execute_result"
    }
   ],
   "source": [
    " 'radhika' not in spam"
   ]
  },
  {
   "cell_type": "markdown",
   "metadata": {
    "id": "SdqBktXBHfLf"
   },
   "source": [
    "### Tuple Data Type"
   ]
  },
  {
   "cell_type": "code",
   "execution_count": 12,
   "metadata": {
    "colab": {
     "base_uri": "https://localhost:8080/",
     "height": 34
    },
    "id": "xoCYWaPHHfLg",
    "outputId": "6208d8f0-a30b-421b-d138-ed7f609e2596"
   },
   "outputs": [
    {
     "data": {
      "text/plain": [
       "'hello'"
      ]
     },
     "execution_count": 12,
     "metadata": {},
     "output_type": "execute_result"
    }
   ],
   "source": [
    "# Immutable\n",
    "# Can't change values after initialize\n",
    "# Tuple, String, Int, Float\n",
    "\n",
    "#Mutable\n",
    "# List, Dictionary, Array\n",
    "\n",
    "eggs = ('hello', 42, 0.5)\n",
    "eggs[0]\n"
   ]
  },
  {
   "cell_type": "code",
   "execution_count": 13,
   "metadata": {
    "id": "_nZDo2XajRMX"
   },
   "outputs": [],
   "source": [
    "Age = 46"
   ]
  },
  {
   "cell_type": "code",
   "execution_count": null,
   "metadata": {
    "colab": {
     "base_uri": "https://localhost:8080/",
     "height": 34
    },
    "id": "7bPTvyMLHfLl",
    "outputId": "625f8250-cf34-452e-acfd-8d6374e38a0a"
   },
   "outputs": [
    {
     "data": {
      "text/plain": [
       "3"
      ]
     },
     "execution_count": 40,
     "metadata": {
      "tags": []
     },
     "output_type": "execute_result"
    }
   ],
   "source": [
    "len(eggs)\n"
   ]
  },
  {
   "cell_type": "markdown",
   "metadata": {
    "id": "l5oObIumHfLx"
   },
   "source": [
    "## Dictionaries and Structuring Data\n",
    "\n",
    "Example Dictionary:"
   ]
  },
  {
   "cell_type": "code",
   "execution_count": null,
   "metadata": {
    "id": "fm_iO4qMHfLy"
   },
   "outputs": [],
   "source": [
    "myCat = {'size': 'fat', 'color': 'gray', 'disposition': 'loud'}"
   ]
  },
  {
   "cell_type": "code",
   "execution_count": null,
   "metadata": {
    "colab": {
     "base_uri": "https://localhost:8080/",
     "height": 34
    },
    "id": "zaiosEweolCd",
    "outputId": "b1348e17-90e3-4914-866b-c223e479e0d5"
   },
   "outputs": [
    {
     "data": {
      "text/plain": [
       "'fat'"
      ]
     },
     "execution_count": 11,
     "metadata": {
      "tags": []
     },
     "output_type": "execute_result"
    }
   ],
   "source": [
    "myCat[\"size\"]"
   ]
  }
 ],
 "metadata": {
  "colab": {
   "provenance": []
  },
  "kernelspec": {
   "display_name": "Python 3 (ipykernel)",
   "language": "python",
   "name": "python3"
  },
  "language_info": {
   "codemirror_mode": {
    "name": "ipython",
    "version": 3
   },
   "file_extension": ".py",
   "mimetype": "text/x-python",
   "name": "python",
   "nbconvert_exporter": "python",
   "pygments_lexer": "ipython3",
   "version": "3.10.12"
  }
 },
 "nbformat": 4,
 "nbformat_minor": 4
}
