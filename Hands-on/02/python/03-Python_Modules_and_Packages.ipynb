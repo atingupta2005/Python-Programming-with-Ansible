{
  "nbformat": 4,
  "nbformat_minor": 0,
  "metadata": {
    "colab": {
      "provenance": []
    },
    "kernelspec": {
      "display_name": "Python 3",
      "language": "python",
      "name": "python3"
    },
    "language_info": {
      "codemirror_mode": {
        "name": "ipython",
        "version": 3
      },
      "file_extension": ".py",
      "mimetype": "text/x-python",
      "name": "python",
      "nbconvert_exporter": "python",
      "pygments_lexer": "ipython3",
      "version": "3.6.9"
    }
  },
  "cells": [
    {
      "cell_type": "markdown",
      "metadata": {
        "id": "6EM1nw1zujCZ"
      },
      "source": [
        "## Standard Libraries, Import Statement and Important Modules Used in Python"
      ]
    },
    {
      "cell_type": "code",
      "metadata": {
        "id": "GKROI8UTujCo",
        "colab": {
          "base_uri": "https://localhost:8080/",
          "height": 54
        },
        "outputId": "2e02dfa2-4761-4548-8a80-52cf6b624686"
      },
      "source": [
        "# Example 1\n",
        "# Import Statement and Dir Function Revisit\n",
        "\n",
        "import math   # Math Module has been imported to perform various mathematical operations\n",
        "print(dir(math)) # It gives the list of variables and functions used in this module"
      ],
      "execution_count": null,
      "outputs": [
        {
          "output_type": "stream",
          "text": [
            "['__doc__', '__loader__', '__name__', '__package__', '__spec__', 'acos', 'acosh', 'asin', 'asinh', 'atan', 'atan2', 'atanh', 'ceil', 'copysign', 'cos', 'cosh', 'degrees', 'e', 'erf', 'erfc', 'exp', 'expm1', 'fabs', 'factorial', 'floor', 'fmod', 'frexp', 'fsum', 'gamma', 'gcd', 'hypot', 'inf', 'isclose', 'isfinite', 'isinf', 'isnan', 'ldexp', 'lgamma', 'log', 'log10', 'log1p', 'log2', 'modf', 'nan', 'pi', 'pow', 'radians', 'sin', 'sinh', 'sqrt', 'tan', 'tanh', 'tau', 'trunc']\n"
          ],
          "name": "stdout"
        }
      ]
    },
    {
      "cell_type": "code",
      "metadata": {
        "id": "c9Rw-tMzOg7X"
      },
      "source": [
        "print(help(math))\n",
        "print(help(math.floor))"
      ],
      "execution_count": null,
      "outputs": []
    },
    {
      "cell_type": "code",
      "metadata": {
        "id": "-fCRU6A_OOCJ",
        "colab": {
          "base_uri": "https://localhost:8080/",
          "height": 34
        },
        "outputId": "5d011f4c-9481-4dd0-a24c-b39936d58590"
      },
      "source": [],
      "execution_count": null,
      "outputs": [
        {
          "output_type": "execute_result",
          "data": {
            "text/plain": [
              "4"
            ]
          },
          "metadata": {
            "tags": []
          },
          "execution_count": 3
        }
      ]
    },
    {
      "cell_type": "code",
      "metadata": {
        "id": "sEz_Wj9NujD9",
        "outputId": "08b50ec3-915c-4065-d1ab-cd96e557779c"
      },
      "source": [
        "# Example 2\n",
        "# Using loop over dir function\n",
        "\n",
        "import math\n",
        "for i in dir(math):\n",
        "    print(i)\n",
        "print(list(dir(math)))"
      ],
      "execution_count": null,
      "outputs": [
        {
          "output_type": "stream",
          "text": [
            "__doc__\n",
            "__file__\n",
            "__loader__\n",
            "__name__\n",
            "__package__\n",
            "__spec__\n",
            "acos\n",
            "acosh\n",
            "asin\n",
            "asinh\n",
            "atan\n",
            "atan2\n",
            "atanh\n",
            "ceil\n",
            "copysign\n",
            "cos\n",
            "cosh\n",
            "degrees\n",
            "e\n",
            "erf\n",
            "erfc\n",
            "exp\n",
            "expm1\n",
            "fabs\n",
            "factorial\n",
            "floor\n",
            "fmod\n",
            "frexp\n",
            "fsum\n",
            "gamma\n",
            "gcd\n",
            "hypot\n",
            "inf\n",
            "isclose\n",
            "isfinite\n",
            "isinf\n",
            "isnan\n",
            "ldexp\n",
            "lgamma\n",
            "log\n",
            "log10\n",
            "log1p\n",
            "log2\n",
            "modf\n",
            "nan\n",
            "pi\n",
            "pow\n",
            "radians\n",
            "remainder\n",
            "sin\n",
            "sinh\n",
            "sqrt\n",
            "tan\n",
            "tanh\n",
            "tau\n",
            "trunc\n",
            "['__doc__', '__file__', '__loader__', '__name__', '__package__', '__spec__', 'acos', 'acosh', 'asin', 'asinh', 'atan', 'atan2', 'atanh', 'ceil', 'copysign', 'cos', 'cosh', 'degrees', 'e', 'erf', 'erfc', 'exp', 'expm1', 'fabs', 'factorial', 'floor', 'fmod', 'frexp', 'fsum', 'gamma', 'gcd', 'hypot', 'inf', 'isclose', 'isfinite', 'isinf', 'isnan', 'ldexp', 'lgamma', 'log', 'log10', 'log1p', 'log2', 'modf', 'nan', 'pi', 'pow', 'radians', 'remainder', 'sin', 'sinh', 'sqrt', 'tan', 'tanh', 'tau', 'trunc']\n"
          ],
          "name": "stdout"
        }
      ]
    },
    {
      "cell_type": "code",
      "metadata": {
        "id": "14KGXbL6ujEd",
        "outputId": "eed6bff8-18f1-4d12-a691-8fe1c2ad6919"
      },
      "source": [
        "# Example 3\n",
        "# From Import Statement\n",
        "\n",
        "from math import sqrt\n",
        "x=25\n",
        "print(sqrt(x))"
      ],
      "execution_count": null,
      "outputs": [
        {
          "output_type": "stream",
          "text": [
            "5.0\n"
          ],
          "name": "stdout"
        }
      ]
    },
    {
      "cell_type": "code",
      "metadata": {
        "id": "0shLT-NzujE6",
        "outputId": "1679a869-5fe3-4377-e257-5a02fe8d901c"
      },
      "source": [
        "# Example 4\n",
        "\n",
        "from math import sqrt as sq   ## Now in the remaining program we can use sq instead of writing sqrt\n",
        "x=36\n",
        "print(sq(x))"
      ],
      "execution_count": null,
      "outputs": [
        {
          "output_type": "stream",
          "text": [
            "6.0\n"
          ],
          "name": "stdout"
        }
      ]
    },
    {
      "cell_type": "code",
      "metadata": {
        "id": "CJVIXGp8ujFf",
        "outputId": "b303f488-23c3-4433-e9e2-7abc67888bbd"
      },
      "source": [
        "# Example 5\n",
        "from math import *  ## All attributes and functions have been imported\n",
        "x=10\n",
        "print(log10(x))\n",
        "print(factorial(x))"
      ],
      "execution_count": null,
      "outputs": [
        {
          "output_type": "stream",
          "text": [
            "1.0\n",
            "3628800\n"
          ],
          "name": "stdout"
        }
      ]
    },
    {
      "cell_type": "code",
      "metadata": {
        "id": "24FNpqVGujGB"
      },
      "source": [
        "# Please note that we need to import the modules and its functions to use in the program or else will end up in getting error"
      ],
      "execution_count": null,
      "outputs": []
    },
    {
      "cell_type": "markdown",
      "metadata": {
        "id": "k49YtCtIujGZ"
      },
      "source": [
        "## Sys Module"
      ]
    },
    {
      "cell_type": "code",
      "metadata": {
        "id": "T60LPZdGujGe",
        "colab": {
          "base_uri": "https://localhost:8080/",
          "height": 54
        },
        "outputId": "a37d6c44-4133-4ef9-ebf9-9455c312cc9c"
      },
      "source": [
        "# Exampe 6\n",
        "import sys\n",
        "print(sys.path)"
      ],
      "execution_count": null,
      "outputs": [
        {
          "output_type": "stream",
          "text": [
            "['', '/env/python', '/usr/lib/python36.zip', '/usr/lib/python3.6', '/usr/lib/python3.6/lib-dynload', '/usr/local/lib/python3.6/dist-packages', '/usr/lib/python3/dist-packages', '/usr/local/lib/python3.6/dist-packages/IPython/extensions', '/root/.ipython']\n"
          ],
          "name": "stdout"
        }
      ]
    },
    {
      "cell_type": "code",
      "metadata": {
        "id": "XykpQuKqujHS",
        "colab": {
          "base_uri": "https://localhost:8080/",
          "height": 289
        },
        "outputId": "8e10345f-90f8-42f3-bf96-e611669eeab5"
      },
      "source": [
        "# Example 7\n",
        "print(not sys)     # Returns False if module is imported, else True\n",
        "print(sys.prefix)  # Returns a string giving the site-specific directory prefix where the platform independent Python files are installed\n",
        "print(sys.maxsize)  #Returns the largest integer a variable can take.\n",
        "print(sys.version)         # This attribute displays a string containing the version number of the current Python interpreter.\n",
        "print(sys.copyright)    #displays the copyright information on currently installed Python version\n"
      ],
      "execution_count": null,
      "outputs": [
        {
          "output_type": "stream",
          "text": [
            "False\n",
            "/usr\n",
            "9223372036854775807\n",
            "3.6.9 (default, Apr 18 2020, 01:56:04) \n",
            "[GCC 8.4.0]\n",
            "Copyright (c) 2001-2019 Python Software Foundation.\n",
            "All Rights Reserved.\n",
            "\n",
            "Copyright (c) 2000 BeOpen.com.\n",
            "All Rights Reserved.\n",
            "\n",
            "Copyright (c) 1995-2001 Corporation for National Research Initiatives.\n",
            "All Rights Reserved.\n",
            "\n",
            "Copyright (c) 1991-1995 Stichting Mathematisch Centrum, Amsterdam.\n",
            "All Rights Reserved.\n"
          ],
          "name": "stdout"
        }
      ]
    },
    {
      "cell_type": "code",
      "metadata": {
        "id": "cxc-dqezujHm",
        "colab": {
          "base_uri": "https://localhost:8080/",
          "height": 170
        },
        "outputId": "b1c17f00-bdf0-48b8-9d16-eed023deadb5"
      },
      "source": [
        "# Example 8\n",
        "\n",
        "for elem in sys.path:\n",
        "    print(elem)  # This will print the paths where python searches the modules"
      ],
      "execution_count": null,
      "outputs": [
        {
          "output_type": "stream",
          "text": [
            "\n",
            "/env/python\n",
            "/usr/lib/python36.zip\n",
            "/usr/lib/python3.6\n",
            "/usr/lib/python3.6/lib-dynload\n",
            "/usr/local/lib/python3.6/dist-packages\n",
            "/usr/lib/python3/dist-packages\n",
            "/usr/local/lib/python3.6/dist-packages/IPython/extensions\n",
            "/root/.ipython\n"
          ],
          "name": "stdout"
        }
      ]
    },
    {
      "cell_type": "code",
      "metadata": {
        "id": "QmXv3esLujIB",
        "colab": {
          "base_uri": "https://localhost:8080/",
          "height": 54
        },
        "outputId": "5920866f-cfe6-4e8b-c497-208e7cc26ec5"
      },
      "source": [
        "# Example 9\n",
        "# In case if you want to add any path to this list, you can use append function\n",
        "sys.path.append(\"./code/\")\n",
        "print(list(sys.path))"
      ],
      "execution_count": null,
      "outputs": [
        {
          "output_type": "stream",
          "text": [
            "['', '/env/python', '/usr/lib/python36.zip', '/usr/lib/python3.6', '/usr/lib/python3.6/lib-dynload', '/usr/local/lib/python3.6/dist-packages', '/usr/lib/python3/dist-packages', '/usr/local/lib/python3.6/dist-packages/IPython/extensions', '/root/.ipython', './code/']\n"
          ],
          "name": "stdout"
        }
      ]
    },
    {
      "cell_type": "markdown",
      "metadata": {
        "id": "oa_386oBujIZ"
      },
      "source": [
        "## Os Module"
      ]
    },
    {
      "cell_type": "code",
      "metadata": {
        "id": "Vp8PmBQzujIf",
        "outputId": "25c7f1bd-e203-41c8-b0ef-ce6894c86280"
      },
      "source": [
        "# Example 10\n",
        "\n",
        "import os\n",
        "print(os.getcwd())    # It prints the current working directory\n",
        "print(os.chdir('/home')) # It changes the current working directory\n",
        "#print(os.mkdir('/home/New_Directory1'))  # It creates a new working directory\n",
        "print(os.getcwd())  # It prints the working directory after changing the current working directory\n",
        "#print(os.rmdir('/home/New_Directory1')) # It removes a directory"
      ],
      "execution_count": null,
      "outputs": [
        {
          "output_type": "stream",
          "text": [
            "/home\n",
            "None\n",
            "/home\n"
          ],
          "name": "stdout"
        }
      ]
    },
    {
      "cell_type": "code",
      "metadata": {
        "id": "ZSdm9wojujJE",
        "colab": {
          "base_uri": "https://localhost:8080/",
          "height": 105
        },
        "outputId": "e94ad8d5-737c-42b7-84f8-31863094cf6b"
      },
      "source": [
        "# Example 11\n",
        "\n",
        "import os\n",
        "\n",
        "print(os.name)        # Returns the name of the operating system dependent module imported\n",
        "print(os.environ)     # Returns a mapping object representing the string environment\n",
        "print(os.getppid())   # Return the parent’s process id\n",
        "print(os.getpid())   # Return the process id\n"
      ],
      "execution_count": null,
      "outputs": [
        {
          "output_type": "stream",
          "text": [
            "posix\n",
            "environ({'ENV': '/root/.bashrc', 'GCS_READ_CACHE_BLOCK_SIZE_MB': '16', 'CLOUDSDK_CONFIG': '/content/.config', 'CUDA_VERSION': '10.1.243', 'PATH': '/usr/local/nvidia/bin:/usr/local/cuda/bin:/usr/local/sbin:/usr/local/bin:/usr/sbin:/usr/bin:/sbin:/bin:/tools/node/bin:/tools/google-cloud-sdk/bin:/opt/bin', 'HOME': '/root', 'LD_LIBRARY_PATH': '/usr/local/nvidia/lib:/usr/local/nvidia/lib64', 'LANG': 'en_US.UTF-8', 'SHELL': '/bin/bash', 'LIBRARY_PATH': '/usr/local/cuda/lib64/stubs', 'CUDA_PKG_VERSION': '10-1=10.1.243-1', 'SHLVL': '1', 'GCE_METADATA_TIMEOUT': '0', 'NCCL_VERSION': '2.4.8', 'NVIDIA_VISIBLE_DEVICES': 'all', 'TF_FORCE_GPU_ALLOW_GROWTH': 'true', 'DEBIAN_FRONTEND': 'noninteractive', 'CUDNN_VERSION': '7.6.5.32', 'LAST_FORCED_REBUILD': '20200526', 'JPY_PARENT_PID': '18', 'PYTHONPATH': '/env/python', 'DATALAB_SETTINGS_OVERRIDES': '{\"kernelManagerProxyPort\":6000,\"kernelManagerProxyHost\":\"172.28.0.3\",\"jupyterArgs\":[\"--ip=\\\\\"172.28.0.2\\\\\"\"]}', 'NO_GCE_CHECK': 'True', 'GLIBCXX_FORCE_NEW': '1', 'NVIDIA_DRIVER_CAPABILITIES': 'compute,utility', '_': '/tools/node/bin/node', 'LD_PRELOAD': '/usr/lib/x86_64-linux-gnu/libtcmalloc.so.4', 'NVIDIA_REQUIRE_CUDA': 'cuda>=10.1 brand=tesla,driver>=384,driver<385 brand=tesla,driver>=396,driver<397 brand=tesla,driver>=410,driver<411', 'OLDPWD': '/', 'HOSTNAME': '59032c59cb24', 'COLAB_GPU': '0', 'PWD': '/', 'CLOUDSDK_PYTHON': 'python3', 'GLIBCPP_FORCE_NEW': '1', 'PYTHONWARNINGS': 'ignore:::pip._internal.cli.base_command', 'TBE_CREDS_ADDR': '172.28.0.1:8008', 'TERM': 'xterm-color', 'CLICOLOR': '1', 'PAGER': 'cat', 'GIT_PAGER': 'cat', 'MPLBACKEND': 'module://ipykernel.pylab.backend_inline'})\n",
            "18\n",
            "122\n"
          ],
          "name": "stdout"
        }
      ]
    },
    {
      "cell_type": "markdown",
      "metadata": {
        "id": "do9nzqNVujJZ"
      },
      "source": [
        "## os.path module"
      ]
    },
    {
      "cell_type": "code",
      "metadata": {
        "id": "uBZp88z3ujJd"
      },
      "source": [
        "import os.path"
      ],
      "execution_count": null,
      "outputs": []
    },
    {
      "cell_type": "code",
      "metadata": {
        "id": "2eBk4_TkujJw",
        "colab": {
          "base_uri": "https://localhost:8080/",
          "height": 34
        },
        "outputId": "c6962adc-70a8-4e11-e560-8cc5205c7561"
      },
      "source": [
        "# Example 12 -- os.path.join\n",
        "\n",
        "# It Takes one or more paths and joins them by using the current operating system's path separator\n",
        "\n",
        "print(os.path.join('/New_Directory'))"
      ],
      "execution_count": null,
      "outputs": [
        {
          "output_type": "stream",
          "text": [
            "/New_Directory\n"
          ],
          "name": "stdout"
        }
      ]
    },
    {
      "cell_type": "code",
      "metadata": {
        "id": "xQaAjNowujKG",
        "colab": {
          "base_uri": "https://localhost:8080/",
          "height": 34
        },
        "outputId": "4ff87d38-12e5-4848-fd2a-716eb92a0915"
      },
      "source": [
        "# Example 13  -- os.path.abspath\n",
        "\n",
        "# It Takes a relative pathname and returns the corresponding absolute pathname\n",
        "\n",
        "print(os.path.abspath('./New_Directory'))\n"
      ],
      "execution_count": null,
      "outputs": [
        {
          "output_type": "stream",
          "text": [
            "/content/New_Directory\n"
          ],
          "name": "stdout"
        }
      ]
    },
    {
      "cell_type": "code",
      "metadata": {
        "id": "eUI6l7XPujKa",
        "colab": {
          "base_uri": "https://localhost:8080/",
          "height": 34
        },
        "outputId": "68d4974b-91ee-4523-d8e4-6fd7e5674a79"
      },
      "source": [
        "# Example 14 -- os.path.normpath\n",
        "\n",
        "# It Converts path names from nonstandard format to standard format\n",
        "\n",
        "print(os.path.normpath('/home//New_Directory'))\n"
      ],
      "execution_count": null,
      "outputs": [
        {
          "output_type": "stream",
          "text": [
            "home/New_Directory\n"
          ],
          "name": "stdout"
        }
      ]
    },
    {
      "cell_type": "code",
      "metadata": {
        "id": "OZYloOwEujK1",
        "colab": {
          "base_uri": "https://localhost:8080/",
          "height": 68
        },
        "outputId": "1101a311-a74d-4ca2-cd16-49b35d3af1ee"
      },
      "source": [
        " # Example 15 --- os.path.split\n",
        " # It Takes a pathname and returns it in two parts: the directory part and the filename\n",
        "\n",
        "import os\n",
        "print(os.path.split('/home/New_Directory/file.txt'))\n",
        "print(os.path.split('/home/New_Directory/file.txt')[0])\n",
        "print(os.path.split('/home/New_Directory/file.txt')[1])\n"
      ],
      "execution_count": null,
      "outputs": [
        {
          "output_type": "stream",
          "text": [
            "('/home/New_Directory', 'file.txt')\n",
            "/home/New_Directory\n",
            "file.txt\n"
          ],
          "name": "stdout"
        }
      ]
    },
    {
      "cell_type": "code",
      "metadata": {
        "id": "frsVbRyIujLT",
        "outputId": "fcb0a278-eaf0-447c-d25b-9ce4e9293a83"
      },
      "source": [
        " # Example 16 --- os.path.exists\n",
        " # It takes a pathname and returns true if it exists\n",
        "\n",
        "print(os.path.exists('/home/New_Directory_10'))\n"
      ],
      "execution_count": null,
      "outputs": [
        {
          "output_type": "stream",
          "text": [
            "False\n"
          ],
          "name": "stdout"
        }
      ]
    },
    {
      "cell_type": "code",
      "metadata": {
        "id": "R9GESZGoujLl",
        "outputId": "ff7c5c69-fae6-421b-9939-8a363f730c40"
      },
      "source": [
        "# Example 17 --- os.path.isdir\n",
        "# It takes a pathname and returns true if it points to a directory\n",
        "\n",
        "print(os.path.isdir('/home/New_Dir_3'))\n"
      ],
      "execution_count": null,
      "outputs": [
        {
          "output_type": "stream",
          "text": [
            "False\n"
          ],
          "name": "stdout"
        }
      ]
    },
    {
      "cell_type": "code",
      "metadata": {
        "id": "EviDdjNuujL2",
        "colab": {
          "base_uri": "https://localhost:8080/",
          "height": 139
        },
        "outputId": "c604c5c6-ac75-497b-874c-cfc292e3c7e2"
      },
      "source": [
        "# Example 18 --- os.walk\n",
        "# os.walk() will generate tuple of path, folders, files present in given path and will keep on traversing the subfolders\n",
        "import os\n",
        "\n",
        "for p in os.walk('/content'):\n",
        "  print (p)\n"
      ],
      "execution_count": null,
      "outputs": [
        {
          "output_type": "stream",
          "text": [
            "('/content', ['.config', 'sample_data'], [])\n",
            "('/content/.config', ['configurations', 'logs'], ['.last_survey_prompt.yaml', 'active_config', 'gce', 'config_sentinel', '.last_opt_in_prompt.yaml', '.last_update_check.json', '.metricsUUID'])\n",
            "('/content/.config/configurations', [], ['config_default'])\n",
            "('/content/.config/logs', ['2020.05.29'], [])\n",
            "('/content/.config/logs/2020.05.29', [], ['18.18.59.615138.log', '18.18.24.117954.log', '18.19.13.732672.log', '18.19.14.323788.log', '18.18.55.130717.log', '18.18.42.012328.log'])\n",
            "('/content/sample_data', [], ['anscombe.json', 'README.md', 'mnist_train_small.csv', 'california_housing_train.csv', 'mnist_test.csv', 'california_housing_test.csv'])\n"
          ],
          "name": "stdout"
        }
      ]
    },
    {
      "cell_type": "markdown",
      "metadata": {
        "id": "_p-UuqiuujMO"
      },
      "source": [
        "## Math Module"
      ]
    },
    {
      "cell_type": "code",
      "metadata": {
        "id": "hLfeZvxUujMR",
        "colab": {
          "base_uri": "https://localhost:8080/",
          "height": 68
        },
        "outputId": "48ad2108-3600-4d8e-e012-e37feb86a8d2"
      },
      "source": [
        "# Example 19\n",
        "# Ceil, Copysign, fabs\n",
        "\n",
        "import math\n",
        "# Return the ceiling of x as a integer\n",
        "print(math.ceil(11.056))\n",
        " # Return x with the sign of y. On a platform that supports signed zeros, copysign(1.0, -0.0) returns -1.0\n",
        "print(math.copysign(15,-1))\n",
        "#Return positive integer of entered negative value\n",
        "print(math.fabs(-19.7))"
      ],
      "execution_count": null,
      "outputs": [
        {
          "output_type": "stream",
          "text": [
            "12\n",
            "-15.0\n",
            "19.0\n"
          ],
          "name": "stdout"
        }
      ]
    },
    {
      "cell_type": "code",
      "metadata": {
        "id": "Ff9RfzieujMl",
        "outputId": "643a087e-9037-4984-bfaf-cd67ee52932c"
      },
      "source": [
        "# Example 20\n",
        "# Math - Power And Logarithmic Function\n",
        "\n",
        "# Returns e**x\n",
        "print (math.exp(5))\n",
        "# Returns e**x-1\n",
        "print(math.expm1(5))\n",
        "# With one argument, returns the logarithm of x (to the base 10)\n",
        "print(math.log(10))\n",
        "# With two arguments, it considers the given base for calculating log value\n",
        "print(math.log(100,10))\n"
      ],
      "execution_count": null,
      "outputs": [
        {
          "output_type": "stream",
          "text": [
            "148.4131591025766\n",
            "147.4131591025766\n",
            "2.302585092994046\n",
            "2.0\n"
          ],
          "name": "stdout"
        }
      ]
    },
    {
      "cell_type": "code",
      "metadata": {
        "id": "hp54UnbLujM7",
        "outputId": "44acef5c-7122-4961-e11b-f1d127ed0e57"
      },
      "source": [
        "# Example 21\n",
        "# Math - Trigonometric Function\n",
        "\n",
        "# Returns the arc cosine of x, in radians\n",
        "print(math.acos(0.5))\n",
        "# Returns the arc Sine of x, in radians\n",
        "print(math.asin(0.5))\n",
        "# Returns the arc tangent of x, in radians\n",
        "print(math.atan(5))\n",
        "# Returns the cosine of x radians\n",
        "print(math.cos(3))\n"
      ],
      "execution_count": null,
      "outputs": [
        {
          "output_type": "stream",
          "text": [
            "1.0471975511965979\n",
            "0.5235987755982989\n",
            "1.373400766945016\n",
            "-0.9899924966004454\n"
          ],
          "name": "stdout"
        }
      ]
    },
    {
      "cell_type": "code",
      "metadata": {
        "id": "9ChTmY2-ujNM",
        "outputId": "6bdc1f79-47e1-4507-b534-c64b709a3819"
      },
      "source": [
        "# Example 22\n",
        "# Math - Angular, Hyperbolic Function\n",
        "\n",
        "# Converts angle x from radians to degrees\n",
        "print(math.degrees(0.1))\n",
        "\n",
        "# Converts angle x from degrees to radians\n",
        "print(math.radians(6.734))\n",
        "\n",
        "# Returns the value of constant pi\n",
        "print(math.pi)\n",
        "\n",
        "# Returns the value of constant e\n",
        "print(math.e)"
      ],
      "execution_count": null,
      "outputs": [
        {
          "output_type": "stream",
          "text": [
            "5.729577951308233\n",
            "0.11753047182929816\n",
            "3.141592653589793\n",
            "2.718281828459045\n"
          ],
          "name": "stdout"
        }
      ]
    },
    {
      "cell_type": "markdown",
      "metadata": {
        "id": "XYi8thTOujNp"
      },
      "source": [
        "## Random Module"
      ]
    },
    {
      "cell_type": "code",
      "metadata": {
        "id": "HtsAmOGjujNr",
        "colab": {
          "base_uri": "https://localhost:8080/",
          "height": 85
        },
        "outputId": "d4173498-d11d-48f6-e36f-4a4688d2ca15"
      },
      "source": [
        "# Example 23\n",
        "# Random Module Implementations\n",
        "\n",
        "import random\n",
        "\n",
        "num = random.randrange(100)  # Generates a random integer within the given range\n",
        "print(num)\n",
        "\n",
        "ran=random.randrange(0,100,20)  # Return a randomly selected element from range(start, stop, step)\n",
        "print(ran)\n",
        "\n",
        "ran=random.randrange(11,100,7)  # Return a randomly selected element from range(start, stop, step)\n",
        "print(ran)\n",
        "\n",
        "inte=random.randint(0,30)   # Return a random integer N such that a <= N <= b\n",
        "print(inte)\n"
      ],
      "execution_count": null,
      "outputs": [
        {
          "output_type": "stream",
          "text": [
            "75\n",
            "60\n",
            "60\n",
            "26\n"
          ],
          "name": "stdout"
        }
      ]
    },
    {
      "cell_type": "code",
      "metadata": {
        "id": "RXQ7SaYUujOI",
        "colab": {
          "base_uri": "https://localhost:8080/",
          "height": 136
        },
        "outputId": "189ceb43-38f9-447b-b2bc-5ff973486a61"
      },
      "source": [
        "# Running OS commands\n",
        "!ls /"
      ],
      "execution_count": null,
      "outputs": [
        {
          "output_type": "stream",
          "text": [
            "bin\t\t\t\t\t   etc\t  opt\t sys\n",
            "boot\t\t\t\t\t   home   proc\t tensorflow-1.15.2\n",
            "content\t\t\t\t\t   lib\t  root\t tmp\n",
            "datalab\t\t\t\t\t   lib32  run\t tools\n",
            "dev\t\t\t\t\t   lib64  sbin\t usr\n",
            "dlib-19.18.0-cp27-cp27mu-linux_x86_64.whl  media  srv\t var\n",
            "dlib-19.18.0-cp36-cp36m-linux_x86_64.whl   mnt\t  swift\n"
          ],
          "name": "stdout"
        }
      ]
    },
    {
      "cell_type": "markdown",
      "metadata": {
        "id": "PKEXqlgsujOd"
      },
      "source": [
        "## DateTime Module"
      ]
    },
    {
      "cell_type": "code",
      "metadata": {
        "id": "7c1r62TBUIrB"
      },
      "source": [
        "import datetime\n",
        "from  datetime import timedelta\n"
      ],
      "execution_count": null,
      "outputs": []
    },
    {
      "cell_type": "code",
      "metadata": {
        "id": "_FPL9ch-ujOl",
        "colab": {
          "base_uri": "https://localhost:8080/",
          "height": 153
        },
        "outputId": "2e4a5c83-d8dd-4205-8ec2-bfda2605aea8"
      },
      "source": [
        "# Example 25\n",
        "#Date Time and Time Delta Implementation\n",
        "\n",
        "import datetime\n",
        "from  datetime import timedelta\n",
        "print(\"datetime.datetime.today: \", datetime.datetime.today())\n",
        "\n",
        "now=datetime.datetime.today()\n",
        "other=datetime.datetime(1995,3,12,22,10)\n",
        "print(\"other: \", other)\n",
        "print(\"now-other: \", now - other)\n",
        "\n",
        "# present Date and Time\n",
        "present_date = datetime.datetime.now()\n",
        "\n",
        "print(\"type(present_date): \", type(present_date)) # Type will be datetime.datetime\n",
        "\n",
        "print (\"present_date: \", str(present_date))\n",
        "\n",
        "# Future Date After 3 years\n",
        "future_date = present_date + timedelta(days = 1095)\n",
        "print(\"type(future_date): \", type(future_date))\n",
        "print('future_date_3years:', str(future_date))\n",
        "print(\"future_date-present_date: \", future_date-present_date)\n"
      ],
      "execution_count": null,
      "outputs": [
        {
          "output_type": "stream",
          "text": [
            "datetime.datetime.today:  2020-06-10 10:48:48.108677\n",
            "other:  1995-03-12 22:10:00\n",
            "now-other:  9221 days, 12:38:48.108849\n",
            "type(present_date):  <class 'datetime.datetime'>\n",
            "present_date:  2020-06-10 10:48:48.109084\n",
            "type(future_date):  <class 'datetime.datetime'>\n",
            "future_date_3years: 2023-06-10 10:48:48.109084\n",
            "future_date-present_date:  1095 days, 0:00:00\n"
          ],
          "name": "stdout"
        }
      ]
    },
    {
      "cell_type": "code",
      "metadata": {
        "id": "MUm-khriT_0f"
      },
      "source": [
        "#help(timedelta)"
      ],
      "execution_count": null,
      "outputs": []
    },
    {
      "cell_type": "code",
      "metadata": {
        "id": "UJJuSglMujO4",
        "colab": {
          "base_uri": "https://localhost:8080/",
          "height": 85
        },
        "outputId": "a6af27b4-e780-43b8-ef58-408b8bb9b7a8"
      },
      "source": [
        "# Example 26\n",
        "\n",
        "import datetime\n",
        "\n",
        "print(\"datetime.MAXYEAR: \", datetime.MAXYEAR)  # Returns the largest year number allowed in a date or datetime object. MAXYEAR is 9999\n",
        "\n",
        "print(\"datetime.MINYEAR: \", datetime.MINYEAR)  # Returns the smallest year number allowed in a date or datetime object. MINYEAR is 1"
      ],
      "execution_count": null,
      "outputs": [
        {
          "output_type": "stream",
          "text": [
            "datetime.MAXYEAR:  9999\n",
            "datetime.MINYEAR:  1\n",
            "<class 'datetime.time'>\n",
            "datetime.timezone:  <class 'datetime.timezone'>\n"
          ],
          "name": "stdout"
        }
      ]
    },
    {
      "cell_type": "code",
      "metadata": {
        "id": "0-PLL17TujPN",
        "colab": {
          "base_uri": "https://localhost:8080/",
          "height": 85
        },
        "outputId": "4c8163bb-8543-4d29-ef90-1875fc4a92e8"
      },
      "source": [
        "# Examle 27\n",
        "\n",
        "# Date Time Formatting\n",
        "\n",
        "current_date=datetime.datetime.now()\n",
        "print(\"current_date: \",  current_date)\n",
        "print(\"type(current_date): \", type(current_date))  #Type will be datetime.datetime\n",
        "\n",
        "formatted_date=current_date.strftime(\"%A/%B/%Y\")  # The date will be printed in this format\n",
        "print(\"formatted_date: \", formatted_date)\n",
        "print(\"type(formatted_date): \", type(formatted_date)) # Type will be str\n",
        "\n",
        "\n",
        "# Please note that, we can format date and time in various formats\n",
        "# For Your Reference, you can explore more from https://docs.python.org/2/library/datetime.html\n",
        "\n"
      ],
      "execution_count": null,
      "outputs": [
        {
          "output_type": "stream",
          "text": [
            "current_date:  2020-06-10 10:52:03.042902\n",
            "type(current_date):  <class 'datetime.datetime'>\n",
            "formatted_date:  Wednesday/June/2020\n",
            "type(formatted_date):  <class 'str'>\n"
          ],
          "name": "stdout"
        }
      ]
    },
    {
      "cell_type": "code",
      "metadata": {
        "id": "r65BMXW8V3m0",
        "colab": {
          "base_uri": "https://localhost:8080/",
          "height": 34
        },
        "outputId": "4bcc258a-4466-4907-d607-c883120a5de3"
      },
      "source": [
        "datetime.datetime.timestamp(datetime.datetime.now())"
      ],
      "execution_count": null,
      "outputs": [
        {
          "output_type": "execute_result",
          "data": {
            "text/plain": [
              "1591844877.466784"
            ]
          },
          "metadata": {
            "tags": []
          },
          "execution_count": 29
        }
      ]
    },
    {
      "cell_type": "markdown",
      "metadata": {
        "id": "SXYM8yu4ujPn"
      },
      "source": [
        "## JSON Module"
      ]
    },
    {
      "cell_type": "code",
      "metadata": {
        "id": "Trm_-lumujPq",
        "colab": {
          "base_uri": "https://localhost:8080/",
          "height": 90
        },
        "outputId": "d322970c-4eb7-4f4f-89ba-bb586103802e"
      },
      "source": [
        "# Example 28\n",
        "import json\n",
        "\n",
        "data =  {'name':'Smith','age':35}\n",
        "\n",
        "print(\"data: \", data)\n",
        "\n",
        "print(\"type(data): \", type(data))\n",
        "\n",
        "json_str=json.dumps(data)   # The original data gets transformed into Json format and type will be String\n",
        "\n",
        "print(\"json_str: \", json_str)\n",
        "\n",
        "print(\"type(json_str): \", type(json_str))\n"
      ],
      "execution_count": null,
      "outputs": [
        {
          "output_type": "stream",
          "text": [
            "data:  {'name': 'Smith', 'age': 35}\n",
            "type(data):  <class 'dict'>\n",
            "json_str:  {\"name\": \"Smith\", \"age\": 35}\n",
            "type(json_str):  <class 'str'>\n"
          ],
          "name": "stdout"
        }
      ]
    },
    {
      "cell_type": "code",
      "metadata": {
        "id": "83RiNxBfcLZu",
        "colab": {
          "base_uri": "https://localhost:8080/",
          "height": 54
        },
        "outputId": "bd07c7d3-1b90-4e55-9303-5f56caf25ea0"
      },
      "source": [
        "original=json.loads(json_str)  # The Json format data gets decoded and the receiver gets the data in original form and type will be again dictionary\n",
        "\n",
        "print(\"original: \", original)\n",
        "print(\"type(original): \", type(original))"
      ],
      "execution_count": null,
      "outputs": [
        {
          "output_type": "stream",
          "text": [
            "original:  {'name': 'Smith', 'age': 35}\n",
            "type(original):  <class 'dict'>\n"
          ],
          "name": "stdout"
        }
      ]
    },
    {
      "cell_type": "code",
      "metadata": {
        "id": "-r1b7addujP9"
      },
      "source": [
        "with open(\"json.txt\", \"w\") as jsonf:\n",
        "  jsonf.writelines(json_str)"
      ],
      "execution_count": null,
      "outputs": []
    },
    {
      "cell_type": "code",
      "metadata": {
        "id": "nzQyTDJAdCGT",
        "colab": {
          "base_uri": "https://localhost:8080/",
          "height": 35
        },
        "outputId": "b5a00680-b5eb-4eb5-af32-3b7b69c686d6"
      },
      "source": [
        "!cat json.txt"
      ],
      "execution_count": null,
      "outputs": [
        {
          "output_type": "stream",
          "text": [
            "{\"name\": \"Smith\", \"age\": 35}"
          ],
          "name": "stdout"
        }
      ]
    },
    {
      "cell_type": "code",
      "metadata": {
        "id": "lxhtoX5qcy09",
        "colab": {
          "base_uri": "https://localhost:8080/",
          "height": 72
        },
        "outputId": "547b6ee7-2b6d-435b-fb25-c4a88db59eec"
      },
      "source": [
        "dict1={}\n",
        "with open(\"json.txt\", \"r\") as jsonf:\n",
        "  all_json = jsonf.read(-1)\n",
        "  #print(all_json)\n",
        "  dict1 = json.loads(all_json)\n",
        "#print(all_json[0])\n",
        "print(dict1)\n",
        "print(dict1['name'])\n",
        "print(dict1['age'])"
      ],
      "execution_count": null,
      "outputs": [
        {
          "output_type": "stream",
          "text": [
            "{'name': 'Smith', 'age': 35}\n",
            "Smith\n",
            "35\n"
          ],
          "name": "stdout"
        }
      ]
    },
    {
      "cell_type": "markdown",
      "metadata": {
        "id": "IwKCfupkBQsW"
      },
      "source": [
        "### User Defined Python - Modules\n",
        "\n",
        " - A module allows to logically organize Python code.\n",
        " - Grouping related code into a module makes the code easier to understand and use."
      ]
    },
    {
      "cell_type": "markdown",
      "metadata": {
        "id": "KfZJAXP0vKET"
      },
      "source": [
        "### The import Statement"
      ]
    },
    {
      "cell_type": "code",
      "metadata": {
        "id": "IR7RwEc_vKEe",
        "colab": {
          "base_uri": "https://localhost:8080/",
          "height": 371
        },
        "outputId": "c1da502b-3f12-457a-b819-6b024cc74b8d"
      },
      "source": [
        "# Import module support\n",
        "import support\n",
        "\n",
        "# Now you can call defined function that module as follows\n",
        "support.print_func(\"Atin\")"
      ],
      "execution_count": null,
      "outputs": [
        {
          "output_type": "stream",
          "text": [
            "Hello Atin\n"
          ],
          "name": "stdout"
        }
      ]
    },
    {
      "cell_type": "markdown",
      "metadata": {
        "id": "M97ryjdTvKEk"
      },
      "source": [
        "#### Python's from statement lets import specific attributes from a module into the current namespace."
      ]
    },
    {
      "cell_type": "code",
      "metadata": {
        "id": "mRFX0avkvKEn"
      },
      "source": [
        "## To import the specific function from the module, use the following statement\n",
        "## Tip: Restart Kernal to remove the loaded library from memory\n",
        "from support import print_func"
      ],
      "execution_count": null,
      "outputs": []
    },
    {
      "cell_type": "code",
      "metadata": {
        "id": "a7R3b9g5vKEu",
        "outputId": "4ae00829-57d2-4edb-b22a-bec1a5bc4b55"
      },
      "source": [
        "print_func(\"Atin\")"
      ],
      "execution_count": null,
      "outputs": [
        {
          "output_type": "stream",
          "text": [
            "Hello Atin\n"
          ],
          "name": "stdout"
        }
      ]
    },
    {
      "cell_type": "code",
      "metadata": {
        "id": "nND6z1kKvKE1"
      },
      "source": [
        "## To import the all functions from the module, use the following statement\n",
        "from support import *"
      ],
      "execution_count": null,
      "outputs": []
    },
    {
      "cell_type": "markdown",
      "metadata": {
        "id": "rhEJiw-ovKE6"
      },
      "source": [
        "#### Locating Modules\n",
        "\n",
        "##### Python interpreter searches for the module in the following sequences −\n",
        "\n",
        "- The current directory.\n",
        "\n",
        "- If the module isn't found, Python then searches each directory in the shell variable PYTHONPATH.\n",
        "\n",
        "- If all else fails, Python checks the python default path."
      ]
    },
    {
      "cell_type": "code",
      "metadata": {
        "id": "CtiGXXMrvKE8",
        "colab": {
          "base_uri": "https://localhost:8080/",
          "height": 170
        },
        "outputId": "38bc8201-0be1-47b3-ed4c-b71c637a8950"
      },
      "source": [
        "import sys\n",
        "\n",
        "sys.path"
      ],
      "execution_count": null,
      "outputs": [
        {
          "output_type": "execute_result",
          "data": {
            "text/plain": [
              "['',\n",
              " '/env/python',\n",
              " '/usr/lib/python36.zip',\n",
              " '/usr/lib/python3.6',\n",
              " '/usr/lib/python3.6/lib-dynload',\n",
              " '/usr/local/lib/python3.6/dist-packages',\n",
              " '/usr/lib/python3/dist-packages',\n",
              " '/usr/local/lib/python3.6/dist-packages/IPython/extensions',\n",
              " '/root/.ipython']"
            ]
          },
          "metadata": {
            "tags": []
          },
          "execution_count": 1
        }
      ]
    },
    {
      "cell_type": "code",
      "metadata": {
        "id": "mj06Tin2vKFA",
        "outputId": "2f00941a-371b-4037-afa2-9893417db21d"
      },
      "source": [
        "## The dir( ) Function\n",
        "## The dir() built-in function returns a sorted list of strings containing the names\n",
        "## defined by a module.\n",
        "\n",
        "import math\n",
        "\n",
        "content = dir(math)\n",
        "print (content)"
      ],
      "execution_count": null,
      "outputs": [
        {
          "output_type": "stream",
          "text": [
            "['__doc__', '__loader__', '__name__', '__package__', '__spec__', 'acos', 'acosh', 'asin', 'asinh', 'atan', 'atan2', 'atanh', 'ceil', 'copysign', 'cos', 'cosh', 'degrees', 'e', 'erf', 'erfc', 'exp', 'expm1', 'fabs', 'factorial', 'floor', 'fmod', 'frexp', 'fsum', 'gamma', 'gcd', 'hypot', 'inf', 'isclose', 'isfinite', 'isinf', 'isnan', 'ldexp', 'lgamma', 'log', 'log10', 'log1p', 'log2', 'modf', 'nan', 'pi', 'pow', 'radians', 'remainder', 'sin', 'sinh', 'sqrt', 'tan', 'tanh', 'tau', 'trunc']\n"
          ],
          "name": "stdout"
        }
      ]
    },
    {
      "cell_type": "code",
      "metadata": {
        "id": "tux3YWK6vKFH",
        "colab": {
          "base_uri": "https://localhost:8080/",
          "height": 34
        },
        "outputId": "f59cbf66-66d9-45c2-d1c0-d1c5dd13c396"
      },
      "source": [
        "# Import a custom module\n",
        "\n",
        "### Module initialization\n",
        "## The first time a module is loaded into a running Python script, it is initialized by executing the code in the module once.\n",
        "import support as sp\n",
        "\n",
        "sp.print_func(\"Atin\")\n",
        "\n"
      ],
      "execution_count": null,
      "outputs": [
        {
          "output_type": "stream",
          "text": [
            "print_func:  Atin\n"
          ],
          "name": "stdout"
        }
      ]
    },
    {
      "cell_type": "code",
      "metadata": {
        "id": "FlXjEiQ2vKFa"
      },
      "source": [
        "import support"
      ],
      "execution_count": null,
      "outputs": []
    },
    {
      "cell_type": "code",
      "metadata": {
        "id": "r9mihn3cvKFe",
        "colab": {
          "base_uri": "https://localhost:8080/",
          "height": 85
        },
        "outputId": "cc1d24c1-e30e-4ed7-e934-78536dbaabf2"
      },
      "source": [
        "help(support.print_func)"
      ],
      "execution_count": null,
      "outputs": [
        {
          "output_type": "stream",
          "text": [
            "Help on function print_func in module support:\n",
            "\n",
            "print_func(data)\n",
            "\n"
          ],
          "name": "stdout"
        }
      ]
    },
    {
      "cell_type": "markdown",
      "metadata": {
        "id": "cPjchObSB3yk"
      },
      "source": [
        "**reload()**\n",
        " - reloads a previously imported module.\n",
        " - This is useful if you have edited the module source file"
      ]
    },
    {
      "cell_type": "code",
      "metadata": {
        "id": "lVcbAV66CXK4",
        "colab": {
          "base_uri": "https://localhost:8080/",
          "height": 51
        },
        "outputId": "643e5c00-2a7f-4c33-e61e-667dc4af8ce3"
      },
      "source": [
        "import importlib\n",
        "importlib.reload(support)"
      ],
      "execution_count": null,
      "outputs": [
        {
          "output_type": "stream",
          "text": [
            "support.py is initialized\n"
          ],
          "name": "stdout"
        },
        {
          "output_type": "execute_result",
          "data": {
            "text/plain": [
              "<module 'support' from '/content/support.py'>"
            ]
          },
          "metadata": {
            "tags": []
          },
          "execution_count": 11
        }
      ]
    },
    {
      "cell_type": "code",
      "metadata": {
        "id": "BbLstIzAdIbO"
      },
      "source": [],
      "execution_count": null,
      "outputs": []
    }
  ]
}