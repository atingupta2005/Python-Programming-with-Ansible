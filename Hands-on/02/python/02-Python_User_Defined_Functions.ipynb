{
 "cells": [
  {
   "cell_type": "code",
   "execution_count": 1,
   "metadata": {
    "id": "cwQdRDwlNYtQ",
    "outputId": "c3e447d4-e350-4d98-e491-45ad6581cd22"
   },
   "outputs": [
    {
     "name": "stdout",
     "output_type": "stream",
     "text": [
      "This is your first function\n"
     ]
    }
   ],
   "source": [
    "# Example 1\n",
    "\n",
    "def func_1():   # Function Header\n",
    "    print('This is your first function')  # Function Body\n",
    "func_1()   # Function call"
   ]
  },
  {
   "cell_type": "code",
   "execution_count": 2,
   "metadata": {
    "id": "P_EY--RiNYt1",
    "outputId": "e1f350c3-69a7-4441-b1ed-e1770a3c57f9"
   },
   "outputs": [
    {
     "name": "stdout",
     "output_type": "stream",
     "text": [
      "15\n"
     ]
    }
   ],
   "source": [
    "# Example 2\n",
    "\n",
    "def func_2(x):    # x is formal argument or parameter\n",
    "    y=10      # y is a local variable whose scope lies within the function only\n",
    "    print(x+y)\n",
    "func_2(5) # 5 is the actual parameter. It is mandatory to pass this parameter"
   ]
  },
  {
   "cell_type": "code",
   "execution_count": 4,
   "metadata": {
    "id": "ZOr4M85lNYuL",
    "outputId": "1d4a858a-0bb3-4c76-c0b3-4b50482919fa"
   },
   "outputs": [
    {
     "name": "stdout",
     "output_type": "stream",
     "text": [
      "Hello Python\n",
      "11\n",
      "Hello Python\n",
      "11\n"
     ]
    },
    {
     "name": "stdin",
     "output_type": "stream",
     "text": [
      "Enter 1st operand  10\n",
      "Enter 2nd operand  10\n"
     ]
    },
    {
     "name": "stdout",
     "output_type": "stream",
     "text": [
      "Hello Python\n",
      "20\n"
     ]
    }
   ],
   "source": [
    "# Example 3\n",
    "\n",
    "def func_3(a,b):\n",
    "    print('Hello Python')\n",
    "    return a+b   # return statement terminates the execution of function and control goes back to the calling position\n",
    "# Method 1\n",
    "x=func_3(5,6)\n",
    "print(x)\n",
    "\n",
    "# Method 2\n",
    "print(func_3(5,6))\n",
    "\n",
    "# Method 3\n",
    "print(func_3(int(input('Enter 1st operand ')),int(input('Enter 2nd operand '))))"
   ]
  },
  {
   "cell_type": "code",
   "execution_count": null,
   "metadata": {
    "id": "tIST6yuONYwO",
    "outputId": "af0ed358-d304-4dd3-9bf5-76fc6ef0a442"
   },
   "outputs": [
    {
     "name": "stdout",
     "output_type": "stream",
     "text": [
      "Enter age 32\n",
      "Enter name Deba\n",
      "Your age is: 32\n",
      "Your name is: Deba\n"
     ]
    }
   ],
   "source": [
    "# Example 8  ( Here it is mixed, but the rule has been followed)\n",
    "def func_5(age,name):\n",
    "    print('Your age is:', age)\n",
    "    print('Your name is:', name)\n",
    "user_age=input('Enter age ')\n",
    "user_name=input('Enter name ')\n",
    "func_5(user_age,name=user_name)"
   ]
  },
  {
   "cell_type": "code",
   "execution_count": null,
   "metadata": {
    "id": "3gdExb7vNYwl",
    "outputId": "eb48371a-8f1f-4c45-bbaa-0b7fa9838f4f"
   },
   "outputs": [
    {
     "ename": "SyntaxError",
     "evalue": "non-default argument follows default argument (<ipython-input-8-2d8569c57d8c>, line 7)",
     "output_type": "error",
     "traceback": [
      "\u001b[0;36m  File \u001b[0;32m\"<ipython-input-8-2d8569c57d8c>\"\u001b[0;36m, line \u001b[0;32m7\u001b[0m\n\u001b[0;31m    def func_5(age=20,name):\u001b[0m\n\u001b[0m              ^\u001b[0m\n\u001b[0;31mSyntaxError\u001b[0m\u001b[0;31m:\u001b[0m non-default argument follows default argument\n"
     ]
    }
   ],
   "source": [
    "# Default Argument\n",
    "# It means that you can mention a default value for an argument while defining the function. So, even though you don't pass the\n",
    "# value for that particular argument while calling the function, it takes the default value. But non-default argument can't be\n",
    "# written after default argument. Please observe the same error in this code\n",
    "# Example 9\n",
    "\n",
    "def func_5(age=20,name):\n",
    "    print('Your age is:', age)\n",
    "    print('Your name is:', name)\n",
    "user_age=input('Enter age')\n",
    "user_name=input('Enter name')\n",
    "func_5(name=user_name)"
   ]
  },
  {
   "cell_type": "code",
   "execution_count": null,
   "metadata": {
    "id": "_MYcKirmNYw5"
   },
   "outputs": [],
   "source": [
    "# Example 10\n",
    "def func_5(name,age=20):\n",
    "    print('Your age is:', age)\n",
    "    print('Your name is:', name)\n",
    "#user_age=input('Enter age ')\n",
    "#user_name=input('Enter name ')\n"
   ]
  }
 ],
 "metadata": {
  "colab": {
   "provenance": []
  },
  "kernelspec": {
   "display_name": "Python 3 (ipykernel)",
   "language": "python",
   "name": "python3"
  },
  "language_info": {
   "codemirror_mode": {
    "name": "ipython",
    "version": 3
   },
   "file_extension": ".py",
   "mimetype": "text/x-python",
   "name": "python",
   "nbconvert_exporter": "python",
   "pygments_lexer": "ipython3",
   "version": "3.10.12"
  }
 },
 "nbformat": 4,
 "nbformat_minor": 4
}
