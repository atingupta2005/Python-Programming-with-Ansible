{
 "cells": [
  {
   "cell_type": "markdown",
   "metadata": {
    "id": "6EM1nw1zujCZ"
   },
   "source": [
    "## Standard Libraries, Import Statement and Important Modules Used in Python"
   ]
  },
  {
   "cell_type": "code",
   "execution_count": 3,
   "metadata": {
    "colab": {
     "base_uri": "https://localhost:8080/",
     "height": 54
    },
    "id": "GKROI8UTujCo",
    "outputId": "2e02dfa2-4761-4548-8a80-52cf6b624686"
   },
   "outputs": [
    {
     "name": "stdout",
     "output_type": "stream",
     "text": [
      "['__doc__', '__loader__', '__name__', '__package__', '__spec__', 'acos', 'acosh', 'asin', 'asinh', 'atan', 'atan2', 'atanh', 'ceil', 'comb', 'copysign', 'cos', 'cosh', 'degrees', 'dist', 'e', 'erf', 'erfc', 'exp', 'expm1', 'fabs', 'factorial', 'floor', 'fmod', 'frexp', 'fsum', 'gamma', 'gcd', 'hypot', 'inf', 'isclose', 'isfinite', 'isinf', 'isnan', 'isqrt', 'lcm', 'ldexp', 'lgamma', 'log', 'log10', 'log1p', 'log2', 'modf', 'nan', 'nextafter', 'perm', 'pi', 'pow', 'prod', 'radians', 'remainder', 'sin', 'sinh', 'sqrt', 'tan', 'tanh', 'tau', 'trunc', 'ulp']\n"
     ]
    }
   ],
   "source": [
    "# Example 1\n",
    "# Import Statement and Dir Function Revisit\n",
    "\n",
    "import math   # Math Module has been imported to perform various mathematical operations\n",
    "print(dir(math)) # It gives the list of variables and functions used in this module"
   ]
  },
  {
   "cell_type": "code",
   "execution_count": 5,
   "metadata": {
    "id": "14KGXbL6ujEd",
    "outputId": "eed6bff8-18f1-4d12-a691-8fe1c2ad6919"
   },
   "outputs": [
    {
     "name": "stdout",
     "output_type": "stream",
     "text": [
      "5.0\n"
     ]
    }
   ],
   "source": [
    "# Example 3\n",
    "# From Import Statement\n",
    "\n",
    "from math import sqrt\n",
    "x=25\n",
    "print(sqrt(x))"
   ]
  },
  {
   "cell_type": "code",
   "execution_count": 6,
   "metadata": {
    "id": "0shLT-NzujE6",
    "outputId": "1679a869-5fe3-4377-e257-5a02fe8d901c"
   },
   "outputs": [
    {
     "name": "stdout",
     "output_type": "stream",
     "text": [
      "6.0\n"
     ]
    }
   ],
   "source": [
    "# Example 4\n",
    "\n",
    "from math import sqrt as sq   ## Now in the remaining program we can use sq instead of writing sqrt\n",
    "x=36\n",
    "print(sq(x))"
   ]
  },
  {
   "cell_type": "code",
   "execution_count": 7,
   "metadata": {
    "id": "CJVIXGp8ujFf",
    "outputId": "b303f488-23c3-4433-e9e2-7abc67888bbd"
   },
   "outputs": [
    {
     "name": "stdout",
     "output_type": "stream",
     "text": [
      "1.0\n",
      "3628800\n"
     ]
    }
   ],
   "source": [
    "# Example 5\n",
    "from math import *  ## All attributes and functions have been imported\n",
    "x=10\n",
    "print(log10(x))\n",
    "print(factorial(x))"
   ]
  },
  {
   "cell_type": "code",
   "execution_count": 8,
   "metadata": {
    "id": "24FNpqVGujGB"
   },
   "outputs": [],
   "source": [
    "# Please note that we need to import the modules and its functions to use in the program or else will end up in getting error"
   ]
  },
  {
   "cell_type": "markdown",
   "metadata": {
    "id": "k49YtCtIujGZ"
   },
   "source": [
    "## Sys Module"
   ]
  },
  {
   "cell_type": "code",
   "execution_count": 9,
   "metadata": {
    "colab": {
     "base_uri": "https://localhost:8080/",
     "height": 54
    },
    "id": "T60LPZdGujGe",
    "outputId": "a37d6c44-4133-4ef9-ebf9-9455c312cc9c"
   },
   "outputs": [
    {
     "name": "stdout",
     "output_type": "stream",
     "text": [
      "['/usr/lib/python310.zip', '/usr/lib/python3.10', '/usr/lib/python3.10/lib-dynload', '', '/home/u11/myenv/lib/python3.10/site-packages']\n"
     ]
    }
   ],
   "source": [
    "# Exampe 6\n",
    "import sys\n",
    "print(sys.path)"
   ]
  },
  {
   "cell_type": "code",
   "execution_count": 10,
   "metadata": {
    "colab": {
     "base_uri": "https://localhost:8080/",
     "height": 289
    },
    "id": "XykpQuKqujHS",
    "outputId": "8e10345f-90f8-42f3-bf96-e611669eeab5"
   },
   "outputs": [
    {
     "name": "stdout",
     "output_type": "stream",
     "text": [
      "False\n",
      "/home/u11/myenv\n",
      "9223372036854775807\n",
      "3.10.12 (main, Jul 29 2024, 16:56:48) [GCC 11.4.0]\n",
      "Copyright (c) 2001-2023 Python Software Foundation.\n",
      "All Rights Reserved.\n",
      "\n",
      "Copyright (c) 2000 BeOpen.com.\n",
      "All Rights Reserved.\n",
      "\n",
      "Copyright (c) 1995-2001 Corporation for National Research Initiatives.\n",
      "All Rights Reserved.\n",
      "\n",
      "Copyright (c) 1991-1995 Stichting Mathematisch Centrum, Amsterdam.\n",
      "All Rights Reserved.\n"
     ]
    }
   ],
   "source": [
    "# Example 7\n",
    "print(not sys)     # Returns False if module is imported, else True\n",
    "print(sys.prefix)  # Returns a string giving the site-specific directory prefix where the platform independent Python files are installed\n",
    "print(sys.maxsize)  #Returns the largest integer a variable can take.\n",
    "print(sys.version)         # This attribute displays a string containing the version number of the current Python interpreter.\n",
    "print(sys.copyright)    #displays the copyright information on currently installed Python version"
   ]
  },
  {
   "cell_type": "markdown",
   "metadata": {
    "id": "oa_386oBujIZ"
   },
   "source": [
    "## Os Module"
   ]
  },
  {
   "cell_type": "code",
   "execution_count": null,
   "metadata": {
    "id": "Vp8PmBQzujIf",
    "outputId": "25c7f1bd-e203-41c8-b0ef-ce6894c86280"
   },
   "outputs": [
    {
     "name": "stdout",
     "output_type": "stream",
     "text": [
      "/home\n",
      "None\n",
      "/home\n"
     ]
    }
   ],
   "source": [
    "# Example 10\n",
    "\n",
    "import os\n",
    "print(os.getcwd())    # It prints the current working directory\n",
    "print(os.chdir('/home')) # It changes the current working directory\n",
    "#print(os.mkdir('/home/New_Directory1'))  # It creates a new working directory\n",
    "print(os.getcwd())  # It prints the working directory after changing the current working directory\n",
    "#print(os.rmdir('/home/New_Directory1')) # It removes a directory"
   ]
  },
  {
   "cell_type": "code",
   "execution_count": null,
   "metadata": {
    "colab": {
     "base_uri": "https://localhost:8080/",
     "height": 105
    },
    "id": "ZSdm9wojujJE",
    "outputId": "e94ad8d5-737c-42b7-84f8-31863094cf6b"
   },
   "outputs": [
    {
     "name": "stdout",
     "output_type": "stream",
     "text": [
      "posix\n",
      "environ({'ENV': '/root/.bashrc', 'GCS_READ_CACHE_BLOCK_SIZE_MB': '16', 'CLOUDSDK_CONFIG': '/content/.config', 'CUDA_VERSION': '10.1.243', 'PATH': '/usr/local/nvidia/bin:/usr/local/cuda/bin:/usr/local/sbin:/usr/local/bin:/usr/sbin:/usr/bin:/sbin:/bin:/tools/node/bin:/tools/google-cloud-sdk/bin:/opt/bin', 'HOME': '/root', 'LD_LIBRARY_PATH': '/usr/local/nvidia/lib:/usr/local/nvidia/lib64', 'LANG': 'en_US.UTF-8', 'SHELL': '/bin/bash', 'LIBRARY_PATH': '/usr/local/cuda/lib64/stubs', 'CUDA_PKG_VERSION': '10-1=10.1.243-1', 'SHLVL': '1', 'GCE_METADATA_TIMEOUT': '0', 'NCCL_VERSION': '2.4.8', 'NVIDIA_VISIBLE_DEVICES': 'all', 'TF_FORCE_GPU_ALLOW_GROWTH': 'true', 'DEBIAN_FRONTEND': 'noninteractive', 'CUDNN_VERSION': '7.6.5.32', 'LAST_FORCED_REBUILD': '20200526', 'JPY_PARENT_PID': '18', 'PYTHONPATH': '/env/python', 'DATALAB_SETTINGS_OVERRIDES': '{\"kernelManagerProxyPort\":6000,\"kernelManagerProxyHost\":\"172.28.0.3\",\"jupyterArgs\":[\"--ip=\\\\\"172.28.0.2\\\\\"\"]}', 'NO_GCE_CHECK': 'True', 'GLIBCXX_FORCE_NEW': '1', 'NVIDIA_DRIVER_CAPABILITIES': 'compute,utility', '_': '/tools/node/bin/node', 'LD_PRELOAD': '/usr/lib/x86_64-linux-gnu/libtcmalloc.so.4', 'NVIDIA_REQUIRE_CUDA': 'cuda>=10.1 brand=tesla,driver>=384,driver<385 brand=tesla,driver>=396,driver<397 brand=tesla,driver>=410,driver<411', 'OLDPWD': '/', 'HOSTNAME': '59032c59cb24', 'COLAB_GPU': '0', 'PWD': '/', 'CLOUDSDK_PYTHON': 'python3', 'GLIBCPP_FORCE_NEW': '1', 'PYTHONWARNINGS': 'ignore:::pip._internal.cli.base_command', 'TBE_CREDS_ADDR': '172.28.0.1:8008', 'TERM': 'xterm-color', 'CLICOLOR': '1', 'PAGER': 'cat', 'GIT_PAGER': 'cat', 'MPLBACKEND': 'module://ipykernel.pylab.backend_inline'})\n",
      "18\n",
      "122\n"
     ]
    }
   ],
   "source": [
    "# Example 11\n",
    "\n",
    "import os\n",
    "\n",
    "print(os.name)        # Returns the name of the operating system dependent module imported\n",
    "print(os.environ)     # Returns a mapping object representing the string environment\n",
    "print(os.getppid())   # Return the parent’s process id\n",
    "print(os.getpid())   # Return the process id\n"
   ]
  },
  {
   "cell_type": "markdown",
   "metadata": {
    "id": "do9nzqNVujJZ"
   },
   "source": [
    "## os.path module"
   ]
  },
  {
   "cell_type": "code",
   "execution_count": null,
   "metadata": {
    "id": "uBZp88z3ujJd"
   },
   "outputs": [],
   "source": [
    "import os.path"
   ]
  },
  {
   "cell_type": "code",
   "execution_count": null,
   "metadata": {
    "colab": {
     "base_uri": "https://localhost:8080/",
     "height": 34
    },
    "id": "2eBk4_TkujJw",
    "outputId": "c6962adc-70a8-4e11-e560-8cc5205c7561"
   },
   "outputs": [
    {
     "name": "stdout",
     "output_type": "stream",
     "text": [
      "/New_Directory\n"
     ]
    }
   ],
   "source": [
    "# Example 12 -- os.path.join\n",
    "\n",
    "# It Takes one or more paths and joins them by using the current operating system's path separator\n",
    "\n",
    "print(os.path.join('/New_Directory'))"
   ]
  },
  {
   "cell_type": "code",
   "execution_count": null,
   "metadata": {
    "colab": {
     "base_uri": "https://localhost:8080/",
     "height": 34
    },
    "id": "xQaAjNowujKG",
    "outputId": "4ff87d38-12e5-4848-fd2a-716eb92a0915"
   },
   "outputs": [
    {
     "name": "stdout",
     "output_type": "stream",
     "text": [
      "/content/New_Directory\n"
     ]
    }
   ],
   "source": [
    "# Example 13  -- os.path.abspath\n",
    "\n",
    "# It Takes a relative pathname and returns the corresponding absolute pathname\n",
    "\n",
    "print(os.path.abspath('./New_Directory'))\n"
   ]
  },
  {
   "cell_type": "code",
   "execution_count": null,
   "metadata": {
    "colab": {
     "base_uri": "https://localhost:8080/",
     "height": 34
    },
    "id": "eUI6l7XPujKa",
    "outputId": "68d4974b-91ee-4523-d8e4-6fd7e5674a79"
   },
   "outputs": [
    {
     "name": "stdout",
     "output_type": "stream",
     "text": [
      "home/New_Directory\n"
     ]
    }
   ],
   "source": [
    "# Example 14 -- os.path.normpath\n",
    "\n",
    "# It Converts path names from nonstandard format to standard format\n",
    "\n",
    "print(os.path.normpath('/home//New_Directory'))\n"
   ]
  },
  {
   "cell_type": "code",
   "execution_count": 12,
   "metadata": {
    "colab": {
     "base_uri": "https://localhost:8080/",
     "height": 68
    },
    "id": "OZYloOwEujK1",
    "outputId": "1101a311-a74d-4ca2-cd16-49b35d3af1ee"
   },
   "outputs": [
    {
     "name": "stdout",
     "output_type": "stream",
     "text": [
      "('/home/New_Directory', 'file.txt')\n",
      "/home/New_Directory\n",
      "file.txt\n"
     ]
    }
   ],
   "source": [
    " # Example 15 --- os.path.split\n",
    " # It Takes a pathname and returns it in two parts: the directory part and the filename\n",
    "\n",
    "import os\n",
    "print(os.path.split('/home/New_Directory/file.txt'))\n",
    "print(os.path.split('/home/New_Directory/file.txt')[0])\n",
    "print(os.path.split('/home/New_Directory/file.txt')[1])\n"
   ]
  },
  {
   "cell_type": "code",
   "execution_count": null,
   "metadata": {
    "id": "frsVbRyIujLT",
    "outputId": "fcb0a278-eaf0-447c-d25b-9ce4e9293a83"
   },
   "outputs": [
    {
     "name": "stdout",
     "output_type": "stream",
     "text": [
      "False\n"
     ]
    }
   ],
   "source": [
    " # Example 16 --- os.path.exists\n",
    " # It takes a pathname and returns true if it exists\n",
    "\n",
    "print(os.path.exists('/home/New_Directory_10'))\n"
   ]
  },
  {
   "cell_type": "code",
   "execution_count": null,
   "metadata": {
    "id": "R9GESZGoujLl",
    "outputId": "ff7c5c69-fae6-421b-9939-8a363f730c40"
   },
   "outputs": [
    {
     "name": "stdout",
     "output_type": "stream",
     "text": [
      "False\n"
     ]
    }
   ],
   "source": [
    "# Example 17 --- os.path.isdir\n",
    "# It takes a pathname and returns true if it points to a directory\n",
    "\n",
    "print(os.path.isdir('/home/New_Dir_3'))\n"
   ]
  },
  {
   "cell_type": "markdown",
   "metadata": {
    "id": "SXYM8yu4ujPn"
   },
   "source": [
    "## JSON Module"
   ]
  },
  {
   "cell_type": "code",
   "execution_count": null,
   "metadata": {
    "colab": {
     "base_uri": "https://localhost:8080/",
     "height": 90
    },
    "id": "Trm_-lumujPq",
    "outputId": "d322970c-4eb7-4f4f-89ba-bb586103802e"
   },
   "outputs": [
    {
     "name": "stdout",
     "output_type": "stream",
     "text": [
      "data:  {'name': 'Smith', 'age': 35}\n",
      "type(data):  <class 'dict'>\n",
      "json_str:  {\"name\": \"Smith\", \"age\": 35}\n",
      "type(json_str):  <class 'str'>\n"
     ]
    }
   ],
   "source": [
    "# Example 28\n",
    "import json\n",
    "\n",
    "data =  {'name':'Smith','age':35}\n",
    "\n",
    "print(\"data: \", data)\n",
    "\n",
    "print(\"type(data): \", type(data))\n",
    "\n",
    "json_str=json.dumps(data)   # The original data gets transformed into Json format and type will be String\n",
    "\n",
    "print(\"json_str: \", json_str)\n",
    "\n",
    "print(\"type(json_str): \", type(json_str))\n"
   ]
  },
  {
   "cell_type": "code",
   "execution_count": null,
   "metadata": {
    "colab": {
     "base_uri": "https://localhost:8080/",
     "height": 54
    },
    "id": "83RiNxBfcLZu",
    "outputId": "bd07c7d3-1b90-4e55-9303-5f56caf25ea0"
   },
   "outputs": [
    {
     "name": "stdout",
     "output_type": "stream",
     "text": [
      "original:  {'name': 'Smith', 'age': 35}\n",
      "type(original):  <class 'dict'>\n"
     ]
    }
   ],
   "source": [
    "original=json.loads(json_str)  # The Json format data gets decoded and the receiver gets the data in original form and type will be again dictionary\n",
    "\n",
    "print(\"original: \", original)\n",
    "print(\"type(original): \", type(original))"
   ]
  },
  {
   "cell_type": "code",
   "execution_count": null,
   "metadata": {
    "id": "-r1b7addujP9"
   },
   "outputs": [],
   "source": [
    "with open(\"json.txt\", \"w\") as jsonf:\n",
    "  jsonf.writelines(json_str)"
   ]
  },
  {
   "cell_type": "code",
   "execution_count": null,
   "metadata": {
    "colab": {
     "base_uri": "https://localhost:8080/",
     "height": 35
    },
    "id": "nzQyTDJAdCGT",
    "outputId": "b5a00680-b5eb-4eb5-af32-3b7b69c686d6"
   },
   "outputs": [
    {
     "name": "stdout",
     "output_type": "stream",
     "text": [
      "{\"name\": \"Smith\", \"age\": 35}"
     ]
    }
   ],
   "source": [
    "!cat json.txt"
   ]
  },
  {
   "cell_type": "code",
   "execution_count": null,
   "metadata": {
    "colab": {
     "base_uri": "https://localhost:8080/",
     "height": 72
    },
    "id": "lxhtoX5qcy09",
    "outputId": "547b6ee7-2b6d-435b-fb25-c4a88db59eec"
   },
   "outputs": [
    {
     "name": "stdout",
     "output_type": "stream",
     "text": [
      "{'name': 'Smith', 'age': 35}\n",
      "Smith\n",
      "35\n"
     ]
    }
   ],
   "source": [
    "dict1={}\n",
    "with open(\"json.txt\", \"r\") as jsonf:\n",
    "  all_json = jsonf.read(-1)\n",
    "  #print(all_json)\n",
    "  dict1 = json.loads(all_json)\n",
    "#print(all_json[0])\n",
    "print(dict1)\n",
    "print(dict1['name'])\n",
    "print(dict1['age'])"
   ]
  },
  {
   "cell_type": "markdown",
   "metadata": {
    "id": "IwKCfupkBQsW"
   },
   "source": [
    "### User Defined Python - Modules\n",
    "\n",
    " - A module allows to logically organize Python code.\n",
    " - Grouping related code into a module makes the code easier to understand and use."
   ]
  },
  {
   "cell_type": "markdown",
   "metadata": {
    "id": "KfZJAXP0vKET"
   },
   "source": [
    "### The import Statement"
   ]
  },
  {
   "cell_type": "code",
   "execution_count": null,
   "metadata": {
    "colab": {
     "base_uri": "https://localhost:8080/",
     "height": 371
    },
    "id": "IR7RwEc_vKEe",
    "outputId": "c1da502b-3f12-457a-b819-6b024cc74b8d"
   },
   "outputs": [
    {
     "name": "stdout",
     "output_type": "stream",
     "text": [
      "Hello Atin\n"
     ]
    }
   ],
   "source": [
    "# Import module support\n",
    "import support\n",
    "\n",
    "# Now you can call defined function that module as follows\n",
    "support.print_func(\"Atin\")"
   ]
  },
  {
   "cell_type": "markdown",
   "metadata": {
    "id": "M97ryjdTvKEk"
   },
   "source": [
    "#### Python's from statement lets import specific attributes from a module into the current namespace."
   ]
  },
  {
   "cell_type": "code",
   "execution_count": null,
   "metadata": {
    "id": "mRFX0avkvKEn"
   },
   "outputs": [],
   "source": [
    "## To import the specific function from the module, use the following statement\n",
    "## Tip: Restart Kernal to remove the loaded library from memory\n",
    "from support import print_func"
   ]
  },
  {
   "cell_type": "code",
   "execution_count": null,
   "metadata": {
    "id": "a7R3b9g5vKEu",
    "outputId": "4ae00829-57d2-4edb-b22a-bec1a5bc4b55"
   },
   "outputs": [
    {
     "name": "stdout",
     "output_type": "stream",
     "text": [
      "Hello Atin\n"
     ]
    }
   ],
   "source": [
    "print_func(\"Atin\")"
   ]
  },
  {
   "cell_type": "code",
   "execution_count": null,
   "metadata": {
    "id": "nND6z1kKvKE1"
   },
   "outputs": [],
   "source": [
    "## To import the all functions from the module, use the following statement\n",
    "from support import *"
   ]
  }
 ],
 "metadata": {
  "colab": {
   "provenance": []
  },
  "kernelspec": {
   "display_name": "Python 3 (ipykernel)",
   "language": "python",
   "name": "python3"
  },
  "language_info": {
   "codemirror_mode": {
    "name": "ipython",
    "version": 3
   },
   "file_extension": ".py",
   "mimetype": "text/x-python",
   "name": "python",
   "nbconvert_exporter": "python",
   "pygments_lexer": "ipython3",
   "version": "3.10.12"
  }
 },
 "nbformat": 4,
 "nbformat_minor": 4
}
